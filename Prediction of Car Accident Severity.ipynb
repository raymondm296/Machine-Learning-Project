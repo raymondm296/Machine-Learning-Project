{
 "cells": [
  {
   "cell_type": "markdown",
   "metadata": {},
   "source": [
    "# <center> Prediction of Car Accident Severity</center>"
   ]
  },
  {
   "cell_type": "markdown",
   "metadata": {},
   "source": [
    "## 1. Problem Statement"
   ]
  },
  {
   "cell_type": "markdown",
   "metadata": {},
   "source": [
    "According to the estimation from the National Safety Council, nearly 38,800 people died from car accidents in 2019, while 4.4 million people were injured seriously. That is to say, there are approximately 9 people are injured by car accident every minute. If we can find out which factors contribute to accidents more so than others, we would drive more carefully when those factors are bad. If we know we have a high risk of getting into a serious car accident, then we might change our travel plan. Machine learning can help us on this problem. "
   ]
  },
  {
   "cell_type": "markdown",
   "metadata": {},
   "source": [
    "## 2. Data Understanding"
   ]
  },
  {
   "cell_type": "markdown",
   "metadata": {},
   "source": [
    "A USA countrywide traffic accident dataset will be used on this analysis. This dataset includes car accident data of 49 states since 2016, which is collected from several reliable sources, such as the US and state departments of transpotation, law enforcement agencies, traffic cameras, and traffice sensors. This dataset contains 4 main features of a car accident, which are accident information, location, weather conditon, road condition. \n"
   ]
  },
  {
   "cell_type": "markdown",
   "metadata": {},
   "source": [
    "## 3. Data Preparation"
   ]
  },
  {
   "cell_type": "code",
   "execution_count": 1,
   "metadata": {},
   "outputs": [],
   "source": [
    "import pandas as pd\n",
    "import numpy as np\n",
    "import matplotlib.pyplot as plt\n",
    "import seaborn as sns"
   ]
  },
  {
   "cell_type": "code",
   "execution_count": 2,
   "metadata": {},
   "outputs": [
    {
     "name": "stdout",
     "output_type": "stream",
     "text": [
      "The shape of data is: (3513617, 49)\n"
     ]
    },
    {
     "data": {
      "text/html": [
       "<div>\n",
       "<style scoped>\n",
       "    .dataframe tbody tr th:only-of-type {\n",
       "        vertical-align: middle;\n",
       "    }\n",
       "\n",
       "    .dataframe tbody tr th {\n",
       "        vertical-align: top;\n",
       "    }\n",
       "\n",
       "    .dataframe thead th {\n",
       "        text-align: right;\n",
       "    }\n",
       "</style>\n",
       "<table border=\"1\" class=\"dataframe\">\n",
       "  <thead>\n",
       "    <tr style=\"text-align: right;\">\n",
       "      <th></th>\n",
       "      <th>ID</th>\n",
       "      <th>Source</th>\n",
       "      <th>TMC</th>\n",
       "      <th>Severity</th>\n",
       "      <th>Start_Time</th>\n",
       "      <th>End_Time</th>\n",
       "      <th>Start_Lat</th>\n",
       "      <th>Start_Lng</th>\n",
       "      <th>End_Lat</th>\n",
       "      <th>End_Lng</th>\n",
       "      <th>...</th>\n",
       "      <th>Roundabout</th>\n",
       "      <th>Station</th>\n",
       "      <th>Stop</th>\n",
       "      <th>Traffic_Calming</th>\n",
       "      <th>Traffic_Signal</th>\n",
       "      <th>Turning_Loop</th>\n",
       "      <th>Sunrise_Sunset</th>\n",
       "      <th>Civil_Twilight</th>\n",
       "      <th>Nautical_Twilight</th>\n",
       "      <th>Astronomical_Twilight</th>\n",
       "    </tr>\n",
       "  </thead>\n",
       "  <tbody>\n",
       "    <tr>\n",
       "      <th>0</th>\n",
       "      <td>A-1</td>\n",
       "      <td>MapQuest</td>\n",
       "      <td>201.0</td>\n",
       "      <td>3</td>\n",
       "      <td>2016-02-08 05:46:00</td>\n",
       "      <td>2016-02-08 11:00:00</td>\n",
       "      <td>39.865147</td>\n",
       "      <td>-84.058723</td>\n",
       "      <td>NaN</td>\n",
       "      <td>NaN</td>\n",
       "      <td>...</td>\n",
       "      <td>False</td>\n",
       "      <td>False</td>\n",
       "      <td>False</td>\n",
       "      <td>False</td>\n",
       "      <td>False</td>\n",
       "      <td>False</td>\n",
       "      <td>Night</td>\n",
       "      <td>Night</td>\n",
       "      <td>Night</td>\n",
       "      <td>Night</td>\n",
       "    </tr>\n",
       "    <tr>\n",
       "      <th>1</th>\n",
       "      <td>A-2</td>\n",
       "      <td>MapQuest</td>\n",
       "      <td>201.0</td>\n",
       "      <td>2</td>\n",
       "      <td>2016-02-08 06:07:59</td>\n",
       "      <td>2016-02-08 06:37:59</td>\n",
       "      <td>39.928059</td>\n",
       "      <td>-82.831184</td>\n",
       "      <td>NaN</td>\n",
       "      <td>NaN</td>\n",
       "      <td>...</td>\n",
       "      <td>False</td>\n",
       "      <td>False</td>\n",
       "      <td>False</td>\n",
       "      <td>False</td>\n",
       "      <td>False</td>\n",
       "      <td>False</td>\n",
       "      <td>Night</td>\n",
       "      <td>Night</td>\n",
       "      <td>Night</td>\n",
       "      <td>Day</td>\n",
       "    </tr>\n",
       "    <tr>\n",
       "      <th>2</th>\n",
       "      <td>A-3</td>\n",
       "      <td>MapQuest</td>\n",
       "      <td>201.0</td>\n",
       "      <td>2</td>\n",
       "      <td>2016-02-08 06:49:27</td>\n",
       "      <td>2016-02-08 07:19:27</td>\n",
       "      <td>39.063148</td>\n",
       "      <td>-84.032608</td>\n",
       "      <td>NaN</td>\n",
       "      <td>NaN</td>\n",
       "      <td>...</td>\n",
       "      <td>False</td>\n",
       "      <td>False</td>\n",
       "      <td>False</td>\n",
       "      <td>False</td>\n",
       "      <td>True</td>\n",
       "      <td>False</td>\n",
       "      <td>Night</td>\n",
       "      <td>Night</td>\n",
       "      <td>Day</td>\n",
       "      <td>Day</td>\n",
       "    </tr>\n",
       "    <tr>\n",
       "      <th>3</th>\n",
       "      <td>A-4</td>\n",
       "      <td>MapQuest</td>\n",
       "      <td>201.0</td>\n",
       "      <td>3</td>\n",
       "      <td>2016-02-08 07:23:34</td>\n",
       "      <td>2016-02-08 07:53:34</td>\n",
       "      <td>39.747753</td>\n",
       "      <td>-84.205582</td>\n",
       "      <td>NaN</td>\n",
       "      <td>NaN</td>\n",
       "      <td>...</td>\n",
       "      <td>False</td>\n",
       "      <td>False</td>\n",
       "      <td>False</td>\n",
       "      <td>False</td>\n",
       "      <td>False</td>\n",
       "      <td>False</td>\n",
       "      <td>Night</td>\n",
       "      <td>Day</td>\n",
       "      <td>Day</td>\n",
       "      <td>Day</td>\n",
       "    </tr>\n",
       "    <tr>\n",
       "      <th>4</th>\n",
       "      <td>A-5</td>\n",
       "      <td>MapQuest</td>\n",
       "      <td>201.0</td>\n",
       "      <td>2</td>\n",
       "      <td>2016-02-08 07:39:07</td>\n",
       "      <td>2016-02-08 08:09:07</td>\n",
       "      <td>39.627781</td>\n",
       "      <td>-84.188354</td>\n",
       "      <td>NaN</td>\n",
       "      <td>NaN</td>\n",
       "      <td>...</td>\n",
       "      <td>False</td>\n",
       "      <td>False</td>\n",
       "      <td>False</td>\n",
       "      <td>False</td>\n",
       "      <td>True</td>\n",
       "      <td>False</td>\n",
       "      <td>Day</td>\n",
       "      <td>Day</td>\n",
       "      <td>Day</td>\n",
       "      <td>Day</td>\n",
       "    </tr>\n",
       "  </tbody>\n",
       "</table>\n",
       "<p>5 rows × 49 columns</p>\n",
       "</div>"
      ],
      "text/plain": [
       "    ID    Source    TMC  Severity           Start_Time             End_Time  \\\n",
       "0  A-1  MapQuest  201.0         3  2016-02-08 05:46:00  2016-02-08 11:00:00   \n",
       "1  A-2  MapQuest  201.0         2  2016-02-08 06:07:59  2016-02-08 06:37:59   \n",
       "2  A-3  MapQuest  201.0         2  2016-02-08 06:49:27  2016-02-08 07:19:27   \n",
       "3  A-4  MapQuest  201.0         3  2016-02-08 07:23:34  2016-02-08 07:53:34   \n",
       "4  A-5  MapQuest  201.0         2  2016-02-08 07:39:07  2016-02-08 08:09:07   \n",
       "\n",
       "   Start_Lat  Start_Lng  End_Lat  End_Lng  ...  Roundabout Station   Stop  \\\n",
       "0  39.865147 -84.058723      NaN      NaN  ...       False   False  False   \n",
       "1  39.928059 -82.831184      NaN      NaN  ...       False   False  False   \n",
       "2  39.063148 -84.032608      NaN      NaN  ...       False   False  False   \n",
       "3  39.747753 -84.205582      NaN      NaN  ...       False   False  False   \n",
       "4  39.627781 -84.188354      NaN      NaN  ...       False   False  False   \n",
       "\n",
       "  Traffic_Calming Traffic_Signal Turning_Loop Sunrise_Sunset Civil_Twilight  \\\n",
       "0           False          False        False          Night          Night   \n",
       "1           False          False        False          Night          Night   \n",
       "2           False           True        False          Night          Night   \n",
       "3           False          False        False          Night            Day   \n",
       "4           False           True        False            Day            Day   \n",
       "\n",
       "  Nautical_Twilight Astronomical_Twilight  \n",
       "0             Night                 Night  \n",
       "1             Night                   Day  \n",
       "2               Day                   Day  \n",
       "3               Day                   Day  \n",
       "4               Day                   Day  \n",
       "\n",
       "[5 rows x 49 columns]"
      ]
     },
     "execution_count": 2,
     "metadata": {},
     "output_type": "execute_result"
    }
   ],
   "source": [
    "df = pd.read_csv(r'C:\\Users\\Maiyongkai\\Desktop\\Data Science\\US_Accidents_June20.csv')\n",
    "print(\"The shape of data is:\",(df.shape))\n",
    "df.head()"
   ]
  },
  {
   "cell_type": "markdown",
   "metadata": {},
   "source": [
    "### 3.1. Check Data Source"
   ]
  },
  {
   "cell_type": "code",
   "execution_count": 3,
   "metadata": {},
   "outputs": [
    {
     "data": {
      "text/plain": [
       "<matplotlib.axes._subplots.AxesSubplot at 0x21df778cb20>"
      ]
     },
     "execution_count": 3,
     "metadata": {},
     "output_type": "execute_result"
    },
    {
     "data": {
      "image/png": "[encoded data removed]",
      "text/plain": [
       "<Figure size 432x288 with 1 Axes>"
      ]
     },
     "metadata": {
      "needs_background": "light"
     },
     "output_type": "display_data"
    }
   ],
   "source": [
    "df.groupby('Source').size().sort_values(ascending = False).plot(kind = 'bar')"
   ]
  },
  {
   "cell_type": "markdown",
   "metadata": {},
   "source": [
    "Most of the data is reported from MapQuest. In case Bing has different standard of identifying the accident severity than MapQuest, this project will only use data reported from MapQuest. "
   ]
  },
  {
   "cell_type": "code",
   "execution_count": 4,
   "metadata": {},
   "outputs": [],
   "source": [
    "df = df.loc[df['Source'] == 'MapQuest']\n",
    "df = df.drop(['Source'], axis = 1)"
   ]
  },
  {
   "cell_type": "markdown",
   "metadata": {},
   "source": [
    "### 3.2. Check Missing Values"
   ]
  },
  {
   "cell_type": "code",
   "execution_count": 5,
   "metadata": {},
   "outputs": [
    {
     "data": {
      "text/plain": [
       "Text(0.5, 1.0, 'Features That Have Missing Value with Missing Precentage')"
      ]
     },
     "execution_count": 5,
     "metadata": {},
     "output_type": "execute_result"
    },
    {
     "data": {
      "image/png": "[encoded data removed]",
      "text/plain": [
       "<Figure size 720x360 with 1 Axes>"
      ]
     },
     "metadata": {
      "needs_background": "light"
     },
     "output_type": "display_data"
    }
   ],
   "source": [
    "missing_values= df.isnull().sum().sort_values(ascending = False)\n",
    "missing_values_percentage = missing_values.transform(lambda x: x/df.shape[0]*100)\n",
    "df_miss_value = pd.DataFrame(missing_values_percentage)\n",
    "df_miss_value.columns = [ 'Percentage']\n",
    "df_miss_value = df_miss_value[df_miss_value ['Percentage'] > 0]\n",
    "df_miss_value.plot(kind = 'bar',figsize=(10,5))\n",
    "plt.title('Features That Have Missing Value with Missing Precentage')"
   ]
  },
  {
   "cell_type": "markdown",
   "metadata": {},
   "source": [
    "Latitude and longitude of end point of accident location are important because latitude and logitude of start point are known. Feature should be dropped if more than 50 percent of its values are missing.  "
   ]
  },
  {
   "cell_type": "code",
   "execution_count": 6,
   "metadata": {},
   "outputs": [],
   "source": [
    "dropfeatures = [ 'End_Lat', 'End_Lng', 'Precipitation(in)', 'Number', 'Wind_Chill(F)']\n",
    "\n",
    "df = df.drop(dropfeatures, axis = 1)"
   ]
  },
  {
   "cell_type": "markdown",
   "metadata": {},
   "source": [
    "### 3.3. Check Deversity in Features"
   ]
  },
  {
   "cell_type": "code",
   "execution_count": 7,
   "metadata": {},
   "outputs": [
    {
     "name": "stdout",
     "output_type": "stream",
     "text": [
      "Country 1\n",
      "Turning_Loop 1\n"
     ]
    }
   ],
   "source": [
    "# unique count of features\n",
    "for i in df.columns:\n",
    "    if df[i].unique().size == 1:\n",
    "        print(i,df[i].unique().size)"
   ]
  },
  {
   "cell_type": "code",
   "execution_count": 8,
   "metadata": {},
   "outputs": [],
   "source": [
    "df = df.drop(['Country','Turning_Loop'], axis = 1)"
   ]
  },
  {
   "cell_type": "markdown",
   "metadata": {},
   "source": [
    "### 3.4. Roughly Check Relationship Between Location/Time and Number of Accidents"
   ]
  },
  {
   "cell_type": "code",
   "execution_count": 9,
   "metadata": {},
   "outputs": [
    {
     "data": {
      "text/plain": [
       "Text(0, 0.5, 'Number of Accidents')"
      ]
     },
     "execution_count": 9,
     "metadata": {},
     "output_type": "execute_result"
    },
    {
     "data": {
      "image/png": "[encoded data removed]",
      "text/plain": [
       "<Figure size 720x576 with 1 Axes>"
      ]
     },
     "metadata": {
      "needs_background": "light"
     },
     "output_type": "display_data"
    }
   ],
   "source": [
    "df.groupby('State').size().sort_values(ascending = False).plot(kind = 'bar', figsize = (10,8))\n",
    "plt.title('Accident in Different States')\n",
    "plt.xlabel('State')\n",
    "plt.ylabel('Number of Accidents')\n"
   ]
  },
  {
   "cell_type": "markdown",
   "metadata": {},
   "source": [
    "Figure above shows that accidents have relationship with location. Some states have more car accidents than others. "
   ]
  },
  {
   "cell_type": "markdown",
   "metadata": {},
   "source": [
    "#### Convert datatime"
   ]
  },
  {
   "cell_type": "code",
   "execution_count": 10,
   "metadata": {},
   "outputs": [],
   "source": [
    "df['Start_Time'] = pd.to_datetime(df['Start_Time'])\n",
    "df['Year']=df['Start_Time'].dt.year\n",
    "df['Month']=df['Start_Time'].dt.month\n",
    "df['Dayofmonth']=df['Start_Time'].dt.day\n",
    "df['Hour']=df['Start_Time'].dt.hour\n",
    "df['DayofWeek']=df['Start_Time'].dt.dayofweek # 0 is Monday\n",
    "df = df.drop('Start_Time',axis = 1)"
   ]
  },
  {
   "cell_type": "code",
   "execution_count": 11,
   "metadata": {},
   "outputs": [
    {
     "data": {
      "text/plain": [
       "Text(0, 0.5, 'Number of Accidents')"
      ]
     },
     "execution_count": 11,
     "metadata": {},
     "output_type": "execute_result"
    },
    {
     "data": {
      "image/png": "[encoded data removed]",
      "text/plain": [
       "<Figure size 720x360 with 1 Axes>"
      ]
     },
     "metadata": {
      "needs_background": "light"
     },
     "output_type": "display_data"
    }
   ],
   "source": [
    "df.groupby('Year').size().plot(kind= 'bar',figsize=(10,5),color = 'red')\n",
    "plt.title('Count of Accident by Year')\n",
    "plt.xlabel('Year')\n",
    "plt.ylabel('Number of Accidents')\n"
   ]
  },
  {
   "cell_type": "code",
   "execution_count": 12,
   "metadata": {},
   "outputs": [
    {
     "data": {
      "text/plain": [
       "Text(0, 0.5, 'Number of Accidents')"
      ]
     },
     "execution_count": 12,
     "metadata": {},
     "output_type": "execute_result"
    },
    {
     "data": {
      "image/png": "[encoded data removed]",
      "text/plain": [
       "<Figure size 1080x432 with 1 Axes>"
      ]
     },
     "metadata": {
      "needs_background": "light"
     },
     "output_type": "display_data"
    }
   ],
   "source": [
    "df.groupby('Month').size().plot(kind= 'bar',figsize=(15,6),color = 'orange')\n",
    "plt.title('Count of Accident by Month')\n",
    "plt.xlabel('Month')\n",
    "plt.ylabel('Number of Accidents')"
   ]
  },
  {
   "cell_type": "code",
   "execution_count": 13,
   "metadata": {},
   "outputs": [
    {
     "data": {
      "text/plain": [
       "Text(0, 0.5, 'Number of Accidents')"
      ]
     },
     "execution_count": 13,
     "metadata": {},
     "output_type": "execute_result"
    },
    {
     "data": {
      "image/png": "[encoded data removed]",
      "text/plain": [
       "<Figure size 1080x432 with 1 Axes>"
      ]
     },
     "metadata": {
      "needs_background": "light"
     },
     "output_type": "display_data"
    }
   ],
   "source": [
    "df.groupby('Hour').size().plot(kind= 'bar',figsize=(15,6),color ='green')\n",
    "plt.title('Count of Accident by Time of Day')\n",
    "plt.xlabel('Hour')\n",
    "plt.ylabel('Number of Accidents')"
   ]
  },
  {
   "cell_type": "code",
   "execution_count": 14,
   "metadata": {},
   "outputs": [
    {
     "data": {
      "text/plain": [
       "Text(0, 0.5, 'Number of Accidents')"
      ]
     },
     "execution_count": 14,
     "metadata": {},
     "output_type": "execute_result"
    },
    {
     "data": {
      "image/png": "[encoded data removed]",
      "text/plain": [
       "<Figure size 720x360 with 1 Axes>"
      ]
     },
     "metadata": {
      "needs_background": "light"
     },
     "output_type": "display_data"
    }
   ],
   "source": [
    "df.groupby('DayofWeek').size().plot(kind= 'bar',figsize=(10,5),color = 'deepskyblue')\n",
    "plt.title('Count of Accident by Day of Week')\n",
    "plt.xlabel('Day of Week')\n",
    "plt.ylabel('Number of Accidents')"
   ]
  },
  {
   "cell_type": "markdown",
   "metadata": {},
   "source": [
    "### 3.5. Dropping More Unnecessary Features"
   ]
  },
  {
   "cell_type": "code",
   "execution_count": 15,
   "metadata": {},
   "outputs": [
    {
     "name": "stdout",
     "output_type": "stream",
     "text": [
      "<class 'pandas.core.frame.DataFrame'>\n",
      "Int64Index: 2414301 entries, 0 to 2478817\n",
      "Data columns (total 45 columns):\n",
      " #   Column                 Dtype  \n",
      "---  ------                 -----  \n",
      " 0   ID                     object \n",
      " 1   TMC                    float64\n",
      " 2   Severity               int64  \n",
      " 3   End_Time               object \n",
      " 4   Start_Lat              float64\n",
      " 5   Start_Lng              float64\n",
      " 6   Distance(mi)           float64\n",
      " 7   Description            object \n",
      " 8   Street                 object \n",
      " 9   Side                   object \n",
      " 10  City                   object \n",
      " 11  County                 object \n",
      " 12  State                  object \n",
      " 13  Zipcode                object \n",
      " 14  Timezone               object \n",
      " 15  Airport_Code           object \n",
      " 16  Weather_Timestamp      object \n",
      " 17  Temperature(F)         float64\n",
      " 18  Humidity(%)            float64\n",
      " 19  Pressure(in)           float64\n",
      " 20  Visibility(mi)         float64\n",
      " 21  Wind_Direction         object \n",
      " 22  Wind_Speed(mph)        float64\n",
      " 23  Weather_Condition      object \n",
      " 24  Amenity                bool   \n",
      " 25  Bump                   bool   \n",
      " 26  Crossing               bool   \n",
      " 27  Give_Way               bool   \n",
      " 28  Junction               bool   \n",
      " 29  No_Exit                bool   \n",
      " 30  Railway                bool   \n",
      " 31  Roundabout             bool   \n",
      " 32  Station                bool   \n",
      " 33  Stop                   bool   \n",
      " 34  Traffic_Calming        bool   \n",
      " 35  Traffic_Signal         bool   \n",
      " 36  Sunrise_Sunset         object \n",
      " 37  Civil_Twilight         object \n",
      " 38  Nautical_Twilight      object \n",
      " 39  Astronomical_Twilight  object \n",
      " 40  Year                   int64  \n",
      " 41  Month                  int64  \n",
      " 42  Dayofmonth             int64  \n",
      " 43  Hour                   int64  \n",
      " 44  DayofWeek              int64  \n",
      "dtypes: bool(12), float64(9), int64(6), object(18)\n",
      "memory usage: 653.9+ MB\n"
     ]
    }
   ],
   "source": [
    "df.info()"
   ]
  },
  {
   "cell_type": "markdown",
   "metadata": {},
   "source": [
    "1. Latitude and longitude can tell detail information of the accident location. Features about **address** are not necessary.\n",
    "\n",
    "2. Driving ability might affected by period of day (daytime or nightime) which based on sunrise and sunset. **Civil/Nautical/Astronomical twillight** is useless.\n",
    "\n",
    "3. Only one **timestamp** is needed. \n",
    "\n",
    "4. The language **descripition** of the accident will not help predict car accident. "
   ]
  },
  {
   "cell_type": "code",
   "execution_count": 16,
   "metadata": {},
   "outputs": [],
   "source": [
    "dropfeatures = ['ID','End_Time', 'Description', 'Street', 'Side', 'City', 'County', 'State', 'Zipcode', 'Timezone', 'Airport_Code', 'Weather_Timestamp', 'Civil_Twilight', 'Nautical_Twilight',\n",
    "       'Astronomical_Twilight']\n",
    "\n",
    "df = df.drop(dropfeatures, axis = 1)"
   ]
  },
  {
   "cell_type": "markdown",
   "metadata": {},
   "source": [
    "### 3.6. Check How Mang Missing Values Left"
   ]
  },
  {
   "cell_type": "code",
   "execution_count": 17,
   "metadata": {},
   "outputs": [
    {
     "data": {
      "text/plain": [
       "TMC                       0\n",
       "Severity                  0\n",
       "Start_Lat                 0\n",
       "Start_Lng                 0\n",
       "Distance(mi)              0\n",
       "Temperature(F)        39453\n",
       "Humidity(%)           42060\n",
       "Pressure(in)          33897\n",
       "Visibility(mi)        47554\n",
       "Wind_Direction        33964\n",
       "Wind_Speed(mph)      338278\n",
       "Weather_Condition     47516\n",
       "Amenity                   0\n",
       "Bump                      0\n",
       "Crossing                  0\n",
       "Give_Way                  0\n",
       "Junction                  0\n",
       "No_Exit                   0\n",
       "Railway                   0\n",
       "Roundabout                0\n",
       "Station                   0\n",
       "Stop                      0\n",
       "Traffic_Calming           0\n",
       "Traffic_Signal            0\n",
       "Sunrise_Sunset           53\n",
       "Year                      0\n",
       "Month                     0\n",
       "Dayofmonth                0\n",
       "Hour                      0\n",
       "DayofWeek                 0\n",
       "dtype: int64"
      ]
     },
     "execution_count": 17,
     "metadata": {},
     "output_type": "execute_result"
    }
   ],
   "source": [
    "df.isnull().sum()"
   ]
  },
  {
   "cell_type": "code",
   "execution_count": 18,
   "metadata": {},
   "outputs": [
    {
     "data": {
      "text/plain": [
       "(2414301, 30)"
      ]
     },
     "execution_count": 18,
     "metadata": {},
     "output_type": "execute_result"
    }
   ],
   "source": [
    "df.shape"
   ]
  },
  {
   "cell_type": "markdown",
   "metadata": {},
   "source": [
    "Dataset still contains large amount of data. Drop rows that have missing values will not affect future modeling. "
   ]
  },
  {
   "cell_type": "code",
   "execution_count": 19,
   "metadata": {},
   "outputs": [],
   "source": [
    "df.dropna(inplace = True)\n"
   ]
  },
  {
   "cell_type": "code",
   "execution_count": 20,
   "metadata": {},
   "outputs": [
    {
     "data": {
      "text/plain": [
       "(2055616, 30)"
      ]
     },
     "execution_count": 20,
     "metadata": {},
     "output_type": "execute_result"
    }
   ],
   "source": [
    "df.shape"
   ]
  },
  {
   "cell_type": "markdown",
   "metadata": {},
   "source": [
    "### 3.7. Roughly Estimate Features Importance "
   ]
  },
  {
   "cell_type": "code",
   "execution_count": 21,
   "metadata": {},
   "outputs": [
    {
     "name": "stdout",
     "output_type": "stream",
     "text": [
      "<class 'pandas.core.frame.DataFrame'>\n",
      "Int64Index: 2055616 entries, 2 to 2478817\n",
      "Data columns (total 30 columns):\n",
      " #   Column             Dtype  \n",
      "---  ------             -----  \n",
      " 0   TMC                float64\n",
      " 1   Severity           int64  \n",
      " 2   Start_Lat          float64\n",
      " 3   Start_Lng          float64\n",
      " 4   Distance(mi)       float64\n",
      " 5   Temperature(F)     float64\n",
      " 6   Humidity(%)        float64\n",
      " 7   Pressure(in)       float64\n",
      " 8   Visibility(mi)     float64\n",
      " 9   Wind_Direction     object \n",
      " 10  Wind_Speed(mph)    float64\n",
      " 11  Weather_Condition  object \n",
      " 12  Amenity            bool   \n",
      " 13  Bump               bool   \n",
      " 14  Crossing           bool   \n",
      " 15  Give_Way           bool   \n",
      " 16  Junction           bool   \n",
      " 17  No_Exit            bool   \n",
      " 18  Railway            bool   \n",
      " 19  Roundabout         bool   \n",
      " 20  Station            bool   \n",
      " 21  Stop               bool   \n",
      " 22  Traffic_Calming    bool   \n",
      " 23  Traffic_Signal     bool   \n",
      " 24  Sunrise_Sunset     object \n",
      " 25  Year               int64  \n",
      " 26  Month              int64  \n",
      " 27  Dayofmonth         int64  \n",
      " 28  Hour               int64  \n",
      " 29  DayofWeek          int64  \n",
      "dtypes: bool(12), float64(9), int64(6), object(3)\n",
      "memory usage: 321.5+ MB\n"
     ]
    }
   ],
   "source": [
    "df.info()"
   ]
  },
  {
   "cell_type": "code",
   "execution_count": 22,
   "metadata": {},
   "outputs": [],
   "source": [
    "# only apply feature importance techniques on float and int features\n",
    "X = df[['TMC', 'Start_Lat', 'Start_Lng', 'Distance(mi)', 'Temperature(F)', 'Humidity(%)', 'Pressure(in)', 'Visibility(mi)',  'Wind_Speed(mph)']]\n",
    "y = df['Severity']    #target column \n"
   ]
  },
  {
   "cell_type": "markdown",
   "metadata": {},
   "source": [
    "#### 3.7.1 Use XGB to Find Features Importance "
   ]
  },
  {
   "cell_type": "code",
   "execution_count": 23,
   "metadata": {},
   "outputs": [],
   "source": [
    "import xgboost as xgb\n",
    "xgb = xgb.XGBRegressor(verbosity=0)\n",
    "xgb.fit(X, y)\n",
    "\n",
    "score = xgb.feature_importances_.argsort()\n"
   ]
  },
  {
   "cell_type": "markdown",
   "metadata": {},
   "source": [
    "#### 3.7.2 Use Extra-Trees to Find Features Importance "
   ]
  },
  {
   "cell_type": "code",
   "execution_count": 24,
   "metadata": {},
   "outputs": [],
   "source": [
    "from sklearn import ensemble \n",
    "\n",
    "extra_tree = ensemble.ExtraTreesRegressor(n_estimators=25, random_state=0)\n",
    "extra_tree.fit(X,y)\n",
    "importance = extra_tree.feature_importances_.argsort()"
   ]
  },
  {
   "cell_type": "markdown",
   "metadata": {},
   "source": [
    "#### 3.7.3. Plot Feature Importance"
   ]
  },
  {
   "cell_type": "code",
   "execution_count": 25,
   "metadata": {},
   "outputs": [
    {
     "data": {
      "text/plain": [
       "Text(0.5, 0, 'Extra-Trees Feature Importance')"
      ]
     },
     "execution_count": 25,
     "metadata": {},
     "output_type": "execute_result"
    },
    {
     "data": {
      "image/png": "[encoded data removed]",
      "text/plain": [
       "<Figure size 720x1440 with 2 Axes>"
      ]
     },
     "metadata": {
      "needs_background": "light"
     },
     "output_type": "display_data"
    }
   ],
   "source": [
    "fig = plt.figure(figsize=(10,20))\n",
    "\n",
    "plt.subplot(2, 1, 1)\n",
    "plt.barh(X.columns, xgb.feature_importances_[score])\n",
    "plt.xlabel(\"Xgboost Feature Importance\")\n",
    "\n",
    "plt.subplot(2, 1, 2)\n",
    "plt.barh(X.columns, extra_tree.feature_importances_[importance])\n",
    "plt.xlabel(\"Extra-Trees Feature Importance\")"
   ]
  },
  {
   "cell_type": "markdown",
   "metadata": {},
   "source": [
    "Figues above show that all these features are important. All these features should be keeped for later modeling. \n"
   ]
  },
  {
   "cell_type": "markdown",
   "metadata": {},
   "source": [
    "### 3.8. Convert Categorical Features to Numerical Values\n"
   ]
  },
  {
   "cell_type": "markdown",
   "metadata": {},
   "source": [
    "#### 3.8.1. Covert Wind Direction"
   ]
  },
  {
   "cell_type": "code",
   "execution_count": 26,
   "metadata": {},
   "outputs": [
    {
     "data": {
      "text/plain": [
       "array(['SW', 'SSW', 'WSW', 'WNW', 'NW', 'West', 'NNW', 'NNE', 'South',\n",
       "       'Variable', 'North', 'SE', 'SSE', 'ESE', 'East', 'NE', 'ENE', 'E',\n",
       "       'W', 'S', 'VAR', 'CALM', 'N'], dtype=object)"
      ]
     },
     "execution_count": 26,
     "metadata": {},
     "output_type": "execute_result"
    }
   ],
   "source": [
    "df['Wind_Direction'].unique()"
   ]
  },
  {
   "cell_type": "code",
   "execution_count": 27,
   "metadata": {},
   "outputs": [],
   "source": [
    "df = df.join(pd.get_dummies(df['Wind_Direction']))"
   ]
  },
  {
   "cell_type": "code",
   "execution_count": 28,
   "metadata": {},
   "outputs": [],
   "source": [
    "df['West'] = df['West'] + df['W']\n",
    "df['East'] = df['East'] + df['E']\n",
    "df['North'] = df['North'] + df['N']\n",
    "df['South'] = df['South'] + df['S']\n",
    "df['South_West'] = df['SW'] + df['WSW'] + df['SSW']\n",
    "df['SouTH_East'] = df['SE'] + df['SSE'] + df['ESE']\n",
    "df['North_West'] = df['NW'] + df['NNW'] + df['WNW']\n",
    "df['North_East'] = df['NE'] + df['NNE'] + df['ENE']\n",
    "df['Variable'] = df['VAR'] + df['Variable']\n",
    "df = df.drop(['W','S','E','N','SW','WSW','SSW','SE','SSE','ESE','NW','NNW','WNW','NE','NNE','ENE','VAR','Wind_Direction'], axis = 1)"
   ]
  },
  {
   "cell_type": "code",
   "execution_count": 29,
   "metadata": {},
   "outputs": [
    {
     "data": {
      "text/html": [
       "<div>\n",
       "<style scoped>\n",
       "    .dataframe tbody tr th:only-of-type {\n",
       "        vertical-align: middle;\n",
       "    }\n",
       "\n",
       "    .dataframe tbody tr th {\n",
       "        vertical-align: top;\n",
       "    }\n",
       "\n",
       "    .dataframe thead th {\n",
       "        text-align: right;\n",
       "    }\n",
       "</style>\n",
       "<table border=\"1\" class=\"dataframe\">\n",
       "  <thead>\n",
       "    <tr style=\"text-align: right;\">\n",
       "      <th></th>\n",
       "      <th>TMC</th>\n",
       "      <th>Severity</th>\n",
       "      <th>Start_Lat</th>\n",
       "      <th>Start_Lng</th>\n",
       "      <th>Distance(mi)</th>\n",
       "      <th>Temperature(F)</th>\n",
       "      <th>Humidity(%)</th>\n",
       "      <th>Pressure(in)</th>\n",
       "      <th>Visibility(mi)</th>\n",
       "      <th>Wind_Speed(mph)</th>\n",
       "      <th>...</th>\n",
       "      <th>CALM</th>\n",
       "      <th>East</th>\n",
       "      <th>North</th>\n",
       "      <th>South</th>\n",
       "      <th>Variable</th>\n",
       "      <th>West</th>\n",
       "      <th>South_West</th>\n",
       "      <th>SouTH_East</th>\n",
       "      <th>North_West</th>\n",
       "      <th>North_East</th>\n",
       "    </tr>\n",
       "  </thead>\n",
       "  <tbody>\n",
       "    <tr>\n",
       "      <th>2</th>\n",
       "      <td>201.0</td>\n",
       "      <td>2</td>\n",
       "      <td>39.063148</td>\n",
       "      <td>-84.032608</td>\n",
       "      <td>0.01</td>\n",
       "      <td>36.0</td>\n",
       "      <td>100.0</td>\n",
       "      <td>29.67</td>\n",
       "      <td>10.0</td>\n",
       "      <td>3.5</td>\n",
       "      <td>...</td>\n",
       "      <td>0</td>\n",
       "      <td>0</td>\n",
       "      <td>0</td>\n",
       "      <td>0</td>\n",
       "      <td>0</td>\n",
       "      <td>0</td>\n",
       "      <td>1</td>\n",
       "      <td>0</td>\n",
       "      <td>0</td>\n",
       "      <td>0</td>\n",
       "    </tr>\n",
       "    <tr>\n",
       "      <th>3</th>\n",
       "      <td>201.0</td>\n",
       "      <td>3</td>\n",
       "      <td>39.747753</td>\n",
       "      <td>-84.205582</td>\n",
       "      <td>0.01</td>\n",
       "      <td>35.1</td>\n",
       "      <td>96.0</td>\n",
       "      <td>29.64</td>\n",
       "      <td>9.0</td>\n",
       "      <td>4.6</td>\n",
       "      <td>...</td>\n",
       "      <td>0</td>\n",
       "      <td>0</td>\n",
       "      <td>0</td>\n",
       "      <td>0</td>\n",
       "      <td>0</td>\n",
       "      <td>0</td>\n",
       "      <td>1</td>\n",
       "      <td>0</td>\n",
       "      <td>0</td>\n",
       "      <td>0</td>\n",
       "    </tr>\n",
       "    <tr>\n",
       "      <th>4</th>\n",
       "      <td>201.0</td>\n",
       "      <td>2</td>\n",
       "      <td>39.627781</td>\n",
       "      <td>-84.188354</td>\n",
       "      <td>0.01</td>\n",
       "      <td>36.0</td>\n",
       "      <td>89.0</td>\n",
       "      <td>29.65</td>\n",
       "      <td>6.0</td>\n",
       "      <td>3.5</td>\n",
       "      <td>...</td>\n",
       "      <td>0</td>\n",
       "      <td>0</td>\n",
       "      <td>0</td>\n",
       "      <td>0</td>\n",
       "      <td>0</td>\n",
       "      <td>0</td>\n",
       "      <td>1</td>\n",
       "      <td>0</td>\n",
       "      <td>0</td>\n",
       "      <td>0</td>\n",
       "    </tr>\n",
       "    <tr>\n",
       "      <th>5</th>\n",
       "      <td>201.0</td>\n",
       "      <td>3</td>\n",
       "      <td>40.100590</td>\n",
       "      <td>-82.925194</td>\n",
       "      <td>0.01</td>\n",
       "      <td>37.9</td>\n",
       "      <td>97.0</td>\n",
       "      <td>29.63</td>\n",
       "      <td>7.0</td>\n",
       "      <td>3.5</td>\n",
       "      <td>...</td>\n",
       "      <td>0</td>\n",
       "      <td>0</td>\n",
       "      <td>0</td>\n",
       "      <td>0</td>\n",
       "      <td>0</td>\n",
       "      <td>0</td>\n",
       "      <td>1</td>\n",
       "      <td>0</td>\n",
       "      <td>0</td>\n",
       "      <td>0</td>\n",
       "    </tr>\n",
       "    <tr>\n",
       "      <th>6</th>\n",
       "      <td>201.0</td>\n",
       "      <td>2</td>\n",
       "      <td>39.758274</td>\n",
       "      <td>-84.230507</td>\n",
       "      <td>0.00</td>\n",
       "      <td>34.0</td>\n",
       "      <td>100.0</td>\n",
       "      <td>29.66</td>\n",
       "      <td>7.0</td>\n",
       "      <td>3.5</td>\n",
       "      <td>...</td>\n",
       "      <td>0</td>\n",
       "      <td>0</td>\n",
       "      <td>0</td>\n",
       "      <td>0</td>\n",
       "      <td>0</td>\n",
       "      <td>0</td>\n",
       "      <td>1</td>\n",
       "      <td>0</td>\n",
       "      <td>0</td>\n",
       "      <td>0</td>\n",
       "    </tr>\n",
       "  </tbody>\n",
       "</table>\n",
       "<p>5 rows × 39 columns</p>\n",
       "</div>"
      ],
      "text/plain": [
       "     TMC  Severity  Start_Lat  Start_Lng  Distance(mi)  Temperature(F)  \\\n",
       "2  201.0         2  39.063148 -84.032608          0.01            36.0   \n",
       "3  201.0         3  39.747753 -84.205582          0.01            35.1   \n",
       "4  201.0         2  39.627781 -84.188354          0.01            36.0   \n",
       "5  201.0         3  40.100590 -82.925194          0.01            37.9   \n",
       "6  201.0         2  39.758274 -84.230507          0.00            34.0   \n",
       "\n",
       "   Humidity(%)  Pressure(in)  Visibility(mi)  Wind_Speed(mph)  ... CALM  East  \\\n",
       "2        100.0         29.67            10.0              3.5  ...    0     0   \n",
       "3         96.0         29.64             9.0              4.6  ...    0     0   \n",
       "4         89.0         29.65             6.0              3.5  ...    0     0   \n",
       "5         97.0         29.63             7.0              3.5  ...    0     0   \n",
       "6        100.0         29.66             7.0              3.5  ...    0     0   \n",
       "\n",
       "   North  South  Variable  West  South_West  SouTH_East  North_West  \\\n",
       "2      0      0         0     0           1           0           0   \n",
       "3      0      0         0     0           1           0           0   \n",
       "4      0      0         0     0           1           0           0   \n",
       "5      0      0         0     0           1           0           0   \n",
       "6      0      0         0     0           1           0           0   \n",
       "\n",
       "   North_East  \n",
       "2           0  \n",
       "3           0  \n",
       "4           0  \n",
       "5           0  \n",
       "6           0  \n",
       "\n",
       "[5 rows x 39 columns]"
      ]
     },
     "execution_count": 29,
     "metadata": {},
     "output_type": "execute_result"
    }
   ],
   "source": [
    "df.head()"
   ]
  },
  {
   "cell_type": "markdown",
   "metadata": {},
   "source": [
    "#### 3.8.2 Covert Weather Condition"
   ]
  },
  {
   "cell_type": "code",
   "execution_count": 30,
   "metadata": {},
   "outputs": [
    {
     "data": {
      "text/plain": [
       "array(['Overcast', 'Mostly Cloudy', 'Light Rain', 'Rain', 'Light Snow',\n",
       "       'Haze', 'Scattered Clouds', 'Partly Cloudy', 'Clear', 'Snow',\n",
       "       'Light Freezing Drizzle', 'Light Drizzle', 'Fog', 'Shallow Fog',\n",
       "       'Heavy Rain', 'Light Freezing Rain', 'Cloudy', 'Drizzle',\n",
       "       'Light Rain Showers', 'Smoke', 'Patches of Fog', 'Mist',\n",
       "       'Light Freezing Fog', 'Light Haze', 'Light Thunderstorms and Rain',\n",
       "       'Thunderstorms and Rain', 'Fair', 'Blowing Sand',\n",
       "       'Blowing Dust / Windy', 'Widespread Dust', 'Fair / Windy',\n",
       "       'Rain Showers', 'Light Rain / Windy', 'Hail', 'Heavy Drizzle',\n",
       "       'Showers in the Vicinity', 'Light Rain Shower',\n",
       "       'Light Rain with Thunder', 'Mostly Cloudy / Windy',\n",
       "       'Partly Cloudy / Windy', 'Thunder in the Vicinity', 'T-Storm',\n",
       "       'Heavy Thunderstorms and Rain', 'Thunderstorm', 'Thunder',\n",
       "       'Heavy T-Storm', 'Funnel Cloud', 'Heavy T-Storm / Windy',\n",
       "       'Blowing Snow', 'Light Thunderstorms and Snow', 'Heavy Snow',\n",
       "       'Low Drifting Snow', 'Light Ice Pellets', 'Ice Pellets', 'Squalls',\n",
       "       'N/A Precipitation', 'Cloudy / Windy', 'Snow Grains', 'Light Fog',\n",
       "       'Snow Showers', 'Heavy Thunderstorms and Snow', 'Rain / Windy',\n",
       "       'Heavy Rain / Windy', 'Heavy Ice Pellets', 'Light Snow / Windy',\n",
       "       'Heavy Freezing Rain', 'Small Hail', 'Heavy Rain Showers',\n",
       "       'T-Storm / Windy', 'Patches of Fog / Windy', 'Drizzle / Windy',\n",
       "       'Thunder / Windy', 'Wintry Mix', 'Squalls / Windy', 'Rain Shower',\n",
       "       'Drizzle and Fog', 'Haze / Windy', 'Sand / Dust Whirlwinds',\n",
       "       'Blowing Dust', 'Fog / Windy', 'Smoke / Windy',\n",
       "       'Wintry Mix / Windy', 'Snow / Windy', 'Light Rain Shower / Windy',\n",
       "       'Heavy Snow / Windy', 'Snow and Sleet',\n",
       "       'Light Freezing Rain / Windy', 'Light Drizzle / Windy',\n",
       "       'Light Snow and Sleet', 'Partial Fog', 'Light Snow Shower',\n",
       "       'Light Snow and Sleet / Windy', 'Freezing Rain',\n",
       "       'Blowing Snow / Windy', 'Freezing Drizzle', 'Sleet', 'Light Sleet',\n",
       "       'Rain and Sleet', 'Heavy Sleet', 'Light Snow Grains',\n",
       "       'Partial Fog / Windy', 'Light Snow with Thunder',\n",
       "       'Widespread Dust / Windy', 'Sand / Dust Whirlwinds / Windy',\n",
       "       'Snow and Thunder', 'Snow and Sleet / Windy',\n",
       "       'Heavy Snow with Thunder', 'Thunder / Wintry Mix / Windy',\n",
       "       'Light Snow Showers', 'Heavy Blowing Snow', 'Light Hail',\n",
       "       'Heavy Thunderstorms with Small Hail', 'Light Thunderstorm',\n",
       "       'Heavy Freezing Drizzle', 'Light Blowing Snow',\n",
       "       'Thunderstorms and Snow'], dtype=object)"
      ]
     },
     "execution_count": 30,
     "metadata": {},
     "output_type": "execute_result"
    }
   ],
   "source": [
    "df['Weather_Condition'].unique()"
   ]
  },
  {
   "cell_type": "code",
   "execution_count": 31,
   "metadata": {},
   "outputs": [],
   "source": [
    "df['Clear'] = np.where(df['Weather_Condition'].str.contains('Clear', case=False, na = False), 1, 0)\n",
    "df['Cloud'] = np.where(df['Weather_Condition'].str.contains('Cloud|Overcast', case=False, na = False), 1, 0)\n",
    "df['Rain'] = np.where(df['Weather_Condition'].str.contains('Rain|storm', case=False, na = False), 1, 0)\n",
    "df['Heavy_Rain'] = np.where(df['Weather_Condition'].str.contains('Heavy Rain|Rain Shower|Heavy T-Storm|Heavy Thunderstorms', case=False, na = False), 1, 0)\n",
    "df['Snow'] = np.where(df['Weather_Condition'].str.contains('Snow|Sleet|Ice', case=False, na = False), 1, 0)\n",
    "df['Heavy_Snow'] = np.where(df['Weather_Condition'].str.contains('Heavy Snow|Heavy Sleet|Heavy Ice Pellets|Snow Showers|Squalls', case=False, na = False), 1, 0)\n",
    "df['Fog'] = np.where(df['Weather_Condition'].str.contains('Fog', case=False, na = False), 1, 0)\n",
    "df = df.drop('Weather_Condition',axis = 1)"
   ]
  },
  {
   "cell_type": "code",
   "execution_count": 32,
   "metadata": {},
   "outputs": [
    {
     "data": {
      "text/html": [
       "<div>\n",
       "<style scoped>\n",
       "    .dataframe tbody tr th:only-of-type {\n",
       "        vertical-align: middle;\n",
       "    }\n",
       "\n",
       "    .dataframe tbody tr th {\n",
       "        vertical-align: top;\n",
       "    }\n",
       "\n",
       "    .dataframe thead th {\n",
       "        text-align: right;\n",
       "    }\n",
       "</style>\n",
       "<table border=\"1\" class=\"dataframe\">\n",
       "  <thead>\n",
       "    <tr style=\"text-align: right;\">\n",
       "      <th></th>\n",
       "      <th>TMC</th>\n",
       "      <th>Severity</th>\n",
       "      <th>Start_Lat</th>\n",
       "      <th>Start_Lng</th>\n",
       "      <th>Distance(mi)</th>\n",
       "      <th>Temperature(F)</th>\n",
       "      <th>Humidity(%)</th>\n",
       "      <th>Pressure(in)</th>\n",
       "      <th>Visibility(mi)</th>\n",
       "      <th>Wind_Speed(mph)</th>\n",
       "      <th>...</th>\n",
       "      <th>South_West</th>\n",
       "      <th>SouTH_East</th>\n",
       "      <th>North_West</th>\n",
       "      <th>North_East</th>\n",
       "      <th>Cloud</th>\n",
       "      <th>Rain</th>\n",
       "      <th>Heavy_Rain</th>\n",
       "      <th>Snow</th>\n",
       "      <th>Heavy_Snow</th>\n",
       "      <th>Fog</th>\n",
       "    </tr>\n",
       "    <tr>\n",
       "      <th>Clear</th>\n",
       "      <th></th>\n",
       "      <th></th>\n",
       "      <th></th>\n",
       "      <th></th>\n",
       "      <th></th>\n",
       "      <th></th>\n",
       "      <th></th>\n",
       "      <th></th>\n",
       "      <th></th>\n",
       "      <th></th>\n",
       "      <th></th>\n",
       "      <th></th>\n",
       "      <th></th>\n",
       "      <th></th>\n",
       "      <th></th>\n",
       "      <th></th>\n",
       "      <th></th>\n",
       "      <th></th>\n",
       "      <th></th>\n",
       "      <th></th>\n",
       "      <th></th>\n",
       "    </tr>\n",
       "  </thead>\n",
       "  <tbody>\n",
       "    <tr>\n",
       "      <th>0</th>\n",
       "      <td>1587089</td>\n",
       "      <td>1587089</td>\n",
       "      <td>1587089</td>\n",
       "      <td>1587089</td>\n",
       "      <td>1587089</td>\n",
       "      <td>1587089</td>\n",
       "      <td>1587089</td>\n",
       "      <td>1587089</td>\n",
       "      <td>1587089</td>\n",
       "      <td>1587089</td>\n",
       "      <td>...</td>\n",
       "      <td>1587089</td>\n",
       "      <td>1587089</td>\n",
       "      <td>1587089</td>\n",
       "      <td>1587089</td>\n",
       "      <td>1587089</td>\n",
       "      <td>1587089</td>\n",
       "      <td>1587089</td>\n",
       "      <td>1587089</td>\n",
       "      <td>1587089</td>\n",
       "      <td>1587089</td>\n",
       "    </tr>\n",
       "    <tr>\n",
       "      <th>1</th>\n",
       "      <td>468527</td>\n",
       "      <td>468527</td>\n",
       "      <td>468527</td>\n",
       "      <td>468527</td>\n",
       "      <td>468527</td>\n",
       "      <td>468527</td>\n",
       "      <td>468527</td>\n",
       "      <td>468527</td>\n",
       "      <td>468527</td>\n",
       "      <td>468527</td>\n",
       "      <td>...</td>\n",
       "      <td>468527</td>\n",
       "      <td>468527</td>\n",
       "      <td>468527</td>\n",
       "      <td>468527</td>\n",
       "      <td>468527</td>\n",
       "      <td>468527</td>\n",
       "      <td>468527</td>\n",
       "      <td>468527</td>\n",
       "      <td>468527</td>\n",
       "      <td>468527</td>\n",
       "    </tr>\n",
       "  </tbody>\n",
       "</table>\n",
       "<p>2 rows × 44 columns</p>\n",
       "</div>"
      ],
      "text/plain": [
       "           TMC  Severity  Start_Lat  Start_Lng  Distance(mi)  Temperature(F)  \\\n",
       "Clear                                                                          \n",
       "0      1587089   1587089    1587089    1587089       1587089         1587089   \n",
       "1       468527    468527     468527     468527        468527          468527   \n",
       "\n",
       "       Humidity(%)  Pressure(in)  Visibility(mi)  Wind_Speed(mph)  ...  \\\n",
       "Clear                                                              ...   \n",
       "0          1587089       1587089         1587089          1587089  ...   \n",
       "1           468527        468527          468527           468527  ...   \n",
       "\n",
       "       South_West  SouTH_East  North_West  North_East    Cloud     Rain  \\\n",
       "Clear                                                                     \n",
       "0         1587089     1587089     1587089     1587089  1587089  1587089   \n",
       "1          468527      468527      468527      468527   468527   468527   \n",
       "\n",
       "       Heavy_Rain     Snow  Heavy_Snow      Fog  \n",
       "Clear                                            \n",
       "0         1587089  1587089     1587089  1587089  \n",
       "1          468527   468527      468527   468527  \n",
       "\n",
       "[2 rows x 44 columns]"
      ]
     },
     "execution_count": 32,
     "metadata": {},
     "output_type": "execute_result"
    }
   ],
   "source": [
    "df.groupby(['Clear']).count()"
   ]
  },
  {
   "cell_type": "code",
   "execution_count": 33,
   "metadata": {},
   "outputs": [
    {
     "data": {
      "text/html": [
       "<div>\n",
       "<style scoped>\n",
       "    .dataframe tbody tr th:only-of-type {\n",
       "        vertical-align: middle;\n",
       "    }\n",
       "\n",
       "    .dataframe tbody tr th {\n",
       "        vertical-align: top;\n",
       "    }\n",
       "\n",
       "    .dataframe thead th {\n",
       "        text-align: right;\n",
       "    }\n",
       "</style>\n",
       "<table border=\"1\" class=\"dataframe\">\n",
       "  <thead>\n",
       "    <tr style=\"text-align: right;\">\n",
       "      <th></th>\n",
       "      <th>TMC</th>\n",
       "      <th>Severity</th>\n",
       "      <th>Start_Lat</th>\n",
       "      <th>Start_Lng</th>\n",
       "      <th>Distance(mi)</th>\n",
       "      <th>Temperature(F)</th>\n",
       "      <th>Humidity(%)</th>\n",
       "      <th>Pressure(in)</th>\n",
       "      <th>Visibility(mi)</th>\n",
       "      <th>Wind_Speed(mph)</th>\n",
       "      <th>...</th>\n",
       "      <th>South_West</th>\n",
       "      <th>SouTH_East</th>\n",
       "      <th>North_West</th>\n",
       "      <th>North_East</th>\n",
       "      <th>Clear</th>\n",
       "      <th>Cloud</th>\n",
       "      <th>Heavy_Rain</th>\n",
       "      <th>Snow</th>\n",
       "      <th>Heavy_Snow</th>\n",
       "      <th>Fog</th>\n",
       "    </tr>\n",
       "    <tr>\n",
       "      <th>Rain</th>\n",
       "      <th></th>\n",
       "      <th></th>\n",
       "      <th></th>\n",
       "      <th></th>\n",
       "      <th></th>\n",
       "      <th></th>\n",
       "      <th></th>\n",
       "      <th></th>\n",
       "      <th></th>\n",
       "      <th></th>\n",
       "      <th></th>\n",
       "      <th></th>\n",
       "      <th></th>\n",
       "      <th></th>\n",
       "      <th></th>\n",
       "      <th></th>\n",
       "      <th></th>\n",
       "      <th></th>\n",
       "      <th></th>\n",
       "      <th></th>\n",
       "      <th></th>\n",
       "    </tr>\n",
       "  </thead>\n",
       "  <tbody>\n",
       "    <tr>\n",
       "      <th>0</th>\n",
       "      <td>1890672</td>\n",
       "      <td>1890672</td>\n",
       "      <td>1890672</td>\n",
       "      <td>1890672</td>\n",
       "      <td>1890672</td>\n",
       "      <td>1890672</td>\n",
       "      <td>1890672</td>\n",
       "      <td>1890672</td>\n",
       "      <td>1890672</td>\n",
       "      <td>1890672</td>\n",
       "      <td>...</td>\n",
       "      <td>1890672</td>\n",
       "      <td>1890672</td>\n",
       "      <td>1890672</td>\n",
       "      <td>1890672</td>\n",
       "      <td>1890672</td>\n",
       "      <td>1890672</td>\n",
       "      <td>1890672</td>\n",
       "      <td>1890672</td>\n",
       "      <td>1890672</td>\n",
       "      <td>1890672</td>\n",
       "    </tr>\n",
       "    <tr>\n",
       "      <th>1</th>\n",
       "      <td>164944</td>\n",
       "      <td>164944</td>\n",
       "      <td>164944</td>\n",
       "      <td>164944</td>\n",
       "      <td>164944</td>\n",
       "      <td>164944</td>\n",
       "      <td>164944</td>\n",
       "      <td>164944</td>\n",
       "      <td>164944</td>\n",
       "      <td>164944</td>\n",
       "      <td>...</td>\n",
       "      <td>164944</td>\n",
       "      <td>164944</td>\n",
       "      <td>164944</td>\n",
       "      <td>164944</td>\n",
       "      <td>164944</td>\n",
       "      <td>164944</td>\n",
       "      <td>164944</td>\n",
       "      <td>164944</td>\n",
       "      <td>164944</td>\n",
       "      <td>164944</td>\n",
       "    </tr>\n",
       "  </tbody>\n",
       "</table>\n",
       "<p>2 rows × 44 columns</p>\n",
       "</div>"
      ],
      "text/plain": [
       "          TMC  Severity  Start_Lat  Start_Lng  Distance(mi)  Temperature(F)  \\\n",
       "Rain                                                                          \n",
       "0     1890672   1890672    1890672    1890672       1890672         1890672   \n",
       "1      164944    164944     164944     164944        164944          164944   \n",
       "\n",
       "      Humidity(%)  Pressure(in)  Visibility(mi)  Wind_Speed(mph)  ...  \\\n",
       "Rain                                                              ...   \n",
       "0         1890672       1890672         1890672          1890672  ...   \n",
       "1          164944        164944          164944           164944  ...   \n",
       "\n",
       "      South_West  SouTH_East  North_West  North_East    Clear    Cloud  \\\n",
       "Rain                                                                     \n",
       "0        1890672     1890672     1890672     1890672  1890672  1890672   \n",
       "1         164944      164944      164944      164944   164944   164944   \n",
       "\n",
       "      Heavy_Rain     Snow  Heavy_Snow      Fog  \n",
       "Rain                                            \n",
       "0        1890672  1890672     1890672  1890672  \n",
       "1         164944   164944      164944   164944  \n",
       "\n",
       "[2 rows x 44 columns]"
      ]
     },
     "execution_count": 33,
     "metadata": {},
     "output_type": "execute_result"
    }
   ],
   "source": [
    "df.groupby(['Rain']).count()"
   ]
  },
  {
   "cell_type": "code",
   "execution_count": 34,
   "metadata": {},
   "outputs": [
    {
     "data": {
      "image/png": "[encoded data removed]",
      "text/plain": [
       "<Figure size 720x720 with 7 Axes>"
      ]
     },
     "metadata": {
      "needs_background": "light"
     },
     "output_type": "display_data"
    }
   ],
   "source": [
    "weather_condition = ['Clear','Cloud','Rain','Heavy_Rain','Snow','Heavy_Snow','Fog']\n",
    "n = 1\n",
    "plt.subplots(ncols=2, nrows=3, figsize=(10, 10))\n",
    "for i in weather_condition:\n",
    "    plt.subplot(4,2,n)\n",
    "    df.groupby(i)['Severity'].count().plot(kind='bar')\n",
    "    n = n+1\n",
    "    \n"
   ]
  },
  {
   "cell_type": "markdown",
   "metadata": {},
   "source": [
    "#####  3.8.3. Convert Sunrise-Sunset  "
   ]
  },
  {
   "cell_type": "code",
   "execution_count": 35,
   "metadata": {},
   "outputs": [],
   "source": [
    "df = df.join(pd.get_dummies(df['Sunrise_Sunset']))\n",
    "df = df.drop('Sunrise_Sunset',axis = 1)"
   ]
  },
  {
   "cell_type": "markdown",
   "metadata": {},
   "source": [
    "### 3.9. Covert True/False to 1/0"
   ]
  },
  {
   "cell_type": "code",
   "execution_count": 36,
   "metadata": {},
   "outputs": [],
   "source": [
    "df_bool = df[['Amenity','Bump','Crossing','Give_Way','Junction','No_Exit','Railway','Roundabout','Station','Stop','Traffic_Calming','Traffic_Signal']].astype('int',copy=True)"
   ]
  },
  {
   "cell_type": "code",
   "execution_count": 37,
   "metadata": {},
   "outputs": [],
   "source": [
    "df = df.drop(['Amenity','Bump','Crossing','Give_Way','Junction','No_Exit','Railway','Roundabout','Station','Stop','Traffic_Calming','Traffic_Signal'],axis = 1)"
   ]
  },
  {
   "cell_type": "code",
   "execution_count": 38,
   "metadata": {},
   "outputs": [],
   "source": [
    "df = pd.concat([df,df_bool],axis =1, sort = False)"
   ]
  },
  {
   "cell_type": "code",
   "execution_count": 39,
   "metadata": {},
   "outputs": [],
   "source": [
    "df = df.astype('float')"
   ]
  },
  {
   "cell_type": "code",
   "execution_count": 40,
   "metadata": {},
   "outputs": [
    {
     "data": {
      "text/html": [
       "<div>\n",
       "<style scoped>\n",
       "    .dataframe tbody tr th:only-of-type {\n",
       "        vertical-align: middle;\n",
       "    }\n",
       "\n",
       "    .dataframe tbody tr th {\n",
       "        vertical-align: top;\n",
       "    }\n",
       "\n",
       "    .dataframe thead th {\n",
       "        text-align: right;\n",
       "    }\n",
       "</style>\n",
       "<table border=\"1\" class=\"dataframe\">\n",
       "  <thead>\n",
       "    <tr style=\"text-align: right;\">\n",
       "      <th></th>\n",
       "      <th>TMC</th>\n",
       "      <th>Severity</th>\n",
       "      <th>Start_Lat</th>\n",
       "      <th>Start_Lng</th>\n",
       "      <th>Distance(mi)</th>\n",
       "      <th>Temperature(F)</th>\n",
       "      <th>Humidity(%)</th>\n",
       "      <th>Pressure(in)</th>\n",
       "      <th>Visibility(mi)</th>\n",
       "      <th>Wind_Speed(mph)</th>\n",
       "      <th>...</th>\n",
       "      <th>Crossing</th>\n",
       "      <th>Give_Way</th>\n",
       "      <th>Junction</th>\n",
       "      <th>No_Exit</th>\n",
       "      <th>Railway</th>\n",
       "      <th>Roundabout</th>\n",
       "      <th>Station</th>\n",
       "      <th>Stop</th>\n",
       "      <th>Traffic_Calming</th>\n",
       "      <th>Traffic_Signal</th>\n",
       "    </tr>\n",
       "  </thead>\n",
       "  <tbody>\n",
       "    <tr>\n",
       "      <th>2</th>\n",
       "      <td>201.0</td>\n",
       "      <td>2.0</td>\n",
       "      <td>39.063148</td>\n",
       "      <td>-84.032608</td>\n",
       "      <td>0.01</td>\n",
       "      <td>36.0</td>\n",
       "      <td>100.0</td>\n",
       "      <td>29.67</td>\n",
       "      <td>10.0</td>\n",
       "      <td>3.5</td>\n",
       "      <td>...</td>\n",
       "      <td>0.0</td>\n",
       "      <td>0.0</td>\n",
       "      <td>0.0</td>\n",
       "      <td>0.0</td>\n",
       "      <td>0.0</td>\n",
       "      <td>0.0</td>\n",
       "      <td>0.0</td>\n",
       "      <td>0.0</td>\n",
       "      <td>0.0</td>\n",
       "      <td>1.0</td>\n",
       "    </tr>\n",
       "    <tr>\n",
       "      <th>3</th>\n",
       "      <td>201.0</td>\n",
       "      <td>3.0</td>\n",
       "      <td>39.747753</td>\n",
       "      <td>-84.205582</td>\n",
       "      <td>0.01</td>\n",
       "      <td>35.1</td>\n",
       "      <td>96.0</td>\n",
       "      <td>29.64</td>\n",
       "      <td>9.0</td>\n",
       "      <td>4.6</td>\n",
       "      <td>...</td>\n",
       "      <td>0.0</td>\n",
       "      <td>0.0</td>\n",
       "      <td>0.0</td>\n",
       "      <td>0.0</td>\n",
       "      <td>0.0</td>\n",
       "      <td>0.0</td>\n",
       "      <td>0.0</td>\n",
       "      <td>0.0</td>\n",
       "      <td>0.0</td>\n",
       "      <td>0.0</td>\n",
       "    </tr>\n",
       "    <tr>\n",
       "      <th>4</th>\n",
       "      <td>201.0</td>\n",
       "      <td>2.0</td>\n",
       "      <td>39.627781</td>\n",
       "      <td>-84.188354</td>\n",
       "      <td>0.01</td>\n",
       "      <td>36.0</td>\n",
       "      <td>89.0</td>\n",
       "      <td>29.65</td>\n",
       "      <td>6.0</td>\n",
       "      <td>3.5</td>\n",
       "      <td>...</td>\n",
       "      <td>0.0</td>\n",
       "      <td>0.0</td>\n",
       "      <td>0.0</td>\n",
       "      <td>0.0</td>\n",
       "      <td>0.0</td>\n",
       "      <td>0.0</td>\n",
       "      <td>0.0</td>\n",
       "      <td>0.0</td>\n",
       "      <td>0.0</td>\n",
       "      <td>1.0</td>\n",
       "    </tr>\n",
       "    <tr>\n",
       "      <th>5</th>\n",
       "      <td>201.0</td>\n",
       "      <td>3.0</td>\n",
       "      <td>40.100590</td>\n",
       "      <td>-82.925194</td>\n",
       "      <td>0.01</td>\n",
       "      <td>37.9</td>\n",
       "      <td>97.0</td>\n",
       "      <td>29.63</td>\n",
       "      <td>7.0</td>\n",
       "      <td>3.5</td>\n",
       "      <td>...</td>\n",
       "      <td>0.0</td>\n",
       "      <td>0.0</td>\n",
       "      <td>0.0</td>\n",
       "      <td>0.0</td>\n",
       "      <td>0.0</td>\n",
       "      <td>0.0</td>\n",
       "      <td>0.0</td>\n",
       "      <td>0.0</td>\n",
       "      <td>0.0</td>\n",
       "      <td>0.0</td>\n",
       "    </tr>\n",
       "    <tr>\n",
       "      <th>6</th>\n",
       "      <td>201.0</td>\n",
       "      <td>2.0</td>\n",
       "      <td>39.758274</td>\n",
       "      <td>-84.230507</td>\n",
       "      <td>0.00</td>\n",
       "      <td>34.0</td>\n",
       "      <td>100.0</td>\n",
       "      <td>29.66</td>\n",
       "      <td>7.0</td>\n",
       "      <td>3.5</td>\n",
       "      <td>...</td>\n",
       "      <td>0.0</td>\n",
       "      <td>0.0</td>\n",
       "      <td>0.0</td>\n",
       "      <td>0.0</td>\n",
       "      <td>0.0</td>\n",
       "      <td>0.0</td>\n",
       "      <td>0.0</td>\n",
       "      <td>0.0</td>\n",
       "      <td>0.0</td>\n",
       "      <td>0.0</td>\n",
       "    </tr>\n",
       "  </tbody>\n",
       "</table>\n",
       "<p>5 rows × 46 columns</p>\n",
       "</div>"
      ],
      "text/plain": [
       "     TMC  Severity  Start_Lat  Start_Lng  Distance(mi)  Temperature(F)  \\\n",
       "2  201.0       2.0  39.063148 -84.032608          0.01            36.0   \n",
       "3  201.0       3.0  39.747753 -84.205582          0.01            35.1   \n",
       "4  201.0       2.0  39.627781 -84.188354          0.01            36.0   \n",
       "5  201.0       3.0  40.100590 -82.925194          0.01            37.9   \n",
       "6  201.0       2.0  39.758274 -84.230507          0.00            34.0   \n",
       "\n",
       "   Humidity(%)  Pressure(in)  Visibility(mi)  Wind_Speed(mph)  ...  Crossing  \\\n",
       "2        100.0         29.67            10.0              3.5  ...       0.0   \n",
       "3         96.0         29.64             9.0              4.6  ...       0.0   \n",
       "4         89.0         29.65             6.0              3.5  ...       0.0   \n",
       "5         97.0         29.63             7.0              3.5  ...       0.0   \n",
       "6        100.0         29.66             7.0              3.5  ...       0.0   \n",
       "\n",
       "   Give_Way  Junction  No_Exit  Railway  Roundabout  Station  Stop  \\\n",
       "2       0.0       0.0      0.0      0.0         0.0      0.0   0.0   \n",
       "3       0.0       0.0      0.0      0.0         0.0      0.0   0.0   \n",
       "4       0.0       0.0      0.0      0.0         0.0      0.0   0.0   \n",
       "5       0.0       0.0      0.0      0.0         0.0      0.0   0.0   \n",
       "6       0.0       0.0      0.0      0.0         0.0      0.0   0.0   \n",
       "\n",
       "   Traffic_Calming  Traffic_Signal  \n",
       "2              0.0             1.0  \n",
       "3              0.0             0.0  \n",
       "4              0.0             1.0  \n",
       "5              0.0             0.0  \n",
       "6              0.0             0.0  \n",
       "\n",
       "[5 rows x 46 columns]"
      ]
     },
     "execution_count": 40,
     "metadata": {},
     "output_type": "execute_result"
    }
   ],
   "source": [
    "df.head()"
   ]
  },
  {
   "cell_type": "code",
   "execution_count": 41,
   "metadata": {},
   "outputs": [],
   "source": [
    "df = df.astype(float)"
   ]
  },
  {
   "cell_type": "code",
   "execution_count": 42,
   "metadata": {},
   "outputs": [
    {
     "name": "stdout",
     "output_type": "stream",
     "text": [
      "<class 'pandas.core.frame.DataFrame'>\n",
      "Int64Index: 2055616 entries, 2 to 2478817\n",
      "Data columns (total 46 columns):\n",
      " #   Column           Dtype  \n",
      "---  ------           -----  \n",
      " 0   TMC              float64\n",
      " 1   Severity         float64\n",
      " 2   Start_Lat        float64\n",
      " 3   Start_Lng        float64\n",
      " 4   Distance(mi)     float64\n",
      " 5   Temperature(F)   float64\n",
      " 6   Humidity(%)      float64\n",
      " 7   Pressure(in)     float64\n",
      " 8   Visibility(mi)   float64\n",
      " 9   Wind_Speed(mph)  float64\n",
      " 10  Year             float64\n",
      " 11  Month            float64\n",
      " 12  Dayofmonth       float64\n",
      " 13  Hour             float64\n",
      " 14  DayofWeek        float64\n",
      " 15  CALM             float64\n",
      " 16  East             float64\n",
      " 17  North            float64\n",
      " 18  South            float64\n",
      " 19  Variable         float64\n",
      " 20  West             float64\n",
      " 21  South_West       float64\n",
      " 22  SouTH_East       float64\n",
      " 23  North_West       float64\n",
      " 24  North_East       float64\n",
      " 25  Clear            float64\n",
      " 26  Cloud            float64\n",
      " 27  Rain             float64\n",
      " 28  Heavy_Rain       float64\n",
      " 29  Snow             float64\n",
      " 30  Heavy_Snow       float64\n",
      " 31  Fog              float64\n",
      " 32  Day              float64\n",
      " 33  Night            float64\n",
      " 34  Amenity          float64\n",
      " 35  Bump             float64\n",
      " 36  Crossing         float64\n",
      " 37  Give_Way         float64\n",
      " 38  Junction         float64\n",
      " 39  No_Exit          float64\n",
      " 40  Railway          float64\n",
      " 41  Roundabout       float64\n",
      " 42  Station          float64\n",
      " 43  Stop             float64\n",
      " 44  Traffic_Calming  float64\n",
      " 45  Traffic_Signal   float64\n",
      "dtypes: float64(46)\n",
      "memory usage: 817.1 MB\n"
     ]
    }
   ],
   "source": [
    "df.info()"
   ]
  },
  {
   "cell_type": "markdown",
   "metadata": {},
   "source": [
    "### Modeling"
   ]
  },
  {
   "cell_type": "code",
   "execution_count": 43,
   "metadata": {},
   "outputs": [
    {
     "name": "stdout",
     "output_type": "stream",
     "text": [
      "['TMC', 'Severity', 'Start_Lat', 'Start_Lng', 'Distance(mi)', 'Temperature(F)', 'Humidity(%)', 'Pressure(in)', 'Visibility(mi)', 'Wind_Speed(mph)', 'Year', 'Month', 'Dayofmonth', 'Hour', 'DayofWeek', 'CALM', 'East', 'North', 'South', 'Variable', 'West', 'South_West', 'SouTH_East', 'North_West', 'North_East', 'Clear', 'Cloud', 'Rain', 'Heavy_Rain', 'Snow', 'Heavy_Snow', 'Fog', 'Day', 'Night', 'Amenity', 'Bump', 'Crossing', 'Give_Way', 'Junction', 'No_Exit', 'Railway', 'Roundabout', 'Station', 'Stop', 'Traffic_Calming', 'Traffic_Signal']\n"
     ]
    }
   ],
   "source": [
    "print(list(df.columns))"
   ]
  },
  {
   "cell_type": "code",
   "execution_count": 44,
   "metadata": {},
   "outputs": [
    {
     "data": {
      "text/plain": [
       "array([2., 3., 1., 4.])"
      ]
     },
     "execution_count": 44,
     "metadata": {},
     "output_type": "execute_result"
    }
   ],
   "source": [
    "df['Severity'].unique()"
   ]
  },
  {
   "cell_type": "code",
   "execution_count": 60,
   "metadata": {},
   "outputs": [
    {
     "data": {
      "text/html": [
       "<div>\n",
       "<style scoped>\n",
       "    .dataframe tbody tr th:only-of-type {\n",
       "        vertical-align: middle;\n",
       "    }\n",
       "\n",
       "    .dataframe tbody tr th {\n",
       "        vertical-align: top;\n",
       "    }\n",
       "\n",
       "    .dataframe thead th {\n",
       "        text-align: right;\n",
       "    }\n",
       "</style>\n",
       "<table border=\"1\" class=\"dataframe\">\n",
       "  <thead>\n",
       "    <tr style=\"text-align: right;\">\n",
       "      <th></th>\n",
       "      <th>TMC</th>\n",
       "      <th>Severity</th>\n",
       "      <th>Start_Lat</th>\n",
       "      <th>Start_Lng</th>\n",
       "      <th>Distance(mi)</th>\n",
       "      <th>Temperature(F)</th>\n",
       "      <th>Humidity(%)</th>\n",
       "      <th>Pressure(in)</th>\n",
       "      <th>Visibility(mi)</th>\n",
       "      <th>Wind_Speed(mph)</th>\n",
       "      <th>...</th>\n",
       "      <th>Crossing</th>\n",
       "      <th>Give_Way</th>\n",
       "      <th>Junction</th>\n",
       "      <th>No_Exit</th>\n",
       "      <th>Railway</th>\n",
       "      <th>Roundabout</th>\n",
       "      <th>Station</th>\n",
       "      <th>Stop</th>\n",
       "      <th>Traffic_Calming</th>\n",
       "      <th>Traffic_Signal</th>\n",
       "    </tr>\n",
       "  </thead>\n",
       "  <tbody>\n",
       "    <tr>\n",
       "      <th>3</th>\n",
       "      <td>201.0</td>\n",
       "      <td>1</td>\n",
       "      <td>39.747753</td>\n",
       "      <td>-84.205582</td>\n",
       "      <td>0.01</td>\n",
       "      <td>35.1</td>\n",
       "      <td>96.0</td>\n",
       "      <td>29.64</td>\n",
       "      <td>9.0</td>\n",
       "      <td>4.6</td>\n",
       "      <td>...</td>\n",
       "      <td>0.0</td>\n",
       "      <td>0.0</td>\n",
       "      <td>0.0</td>\n",
       "      <td>0.0</td>\n",
       "      <td>0.0</td>\n",
       "      <td>0.0</td>\n",
       "      <td>0.0</td>\n",
       "      <td>0.0</td>\n",
       "      <td>0.0</td>\n",
       "      <td>0.0</td>\n",
       "    </tr>\n",
       "    <tr>\n",
       "      <th>5</th>\n",
       "      <td>201.0</td>\n",
       "      <td>1</td>\n",
       "      <td>40.100590</td>\n",
       "      <td>-82.925194</td>\n",
       "      <td>0.01</td>\n",
       "      <td>37.9</td>\n",
       "      <td>97.0</td>\n",
       "      <td>29.63</td>\n",
       "      <td>7.0</td>\n",
       "      <td>3.5</td>\n",
       "      <td>...</td>\n",
       "      <td>0.0</td>\n",
       "      <td>0.0</td>\n",
       "      <td>0.0</td>\n",
       "      <td>0.0</td>\n",
       "      <td>0.0</td>\n",
       "      <td>0.0</td>\n",
       "      <td>0.0</td>\n",
       "      <td>0.0</td>\n",
       "      <td>0.0</td>\n",
       "      <td>0.0</td>\n",
       "    </tr>\n",
       "    <tr>\n",
       "      <th>7</th>\n",
       "      <td>201.0</td>\n",
       "      <td>1</td>\n",
       "      <td>39.770382</td>\n",
       "      <td>-84.194901</td>\n",
       "      <td>0.01</td>\n",
       "      <td>34.0</td>\n",
       "      <td>100.0</td>\n",
       "      <td>29.66</td>\n",
       "      <td>7.0</td>\n",
       "      <td>3.5</td>\n",
       "      <td>...</td>\n",
       "      <td>0.0</td>\n",
       "      <td>0.0</td>\n",
       "      <td>0.0</td>\n",
       "      <td>0.0</td>\n",
       "      <td>0.0</td>\n",
       "      <td>0.0</td>\n",
       "      <td>0.0</td>\n",
       "      <td>0.0</td>\n",
       "      <td>0.0</td>\n",
       "      <td>0.0</td>\n",
       "    </tr>\n",
       "    <tr>\n",
       "      <th>9</th>\n",
       "      <td>201.0</td>\n",
       "      <td>1</td>\n",
       "      <td>40.100590</td>\n",
       "      <td>-82.925194</td>\n",
       "      <td>0.01</td>\n",
       "      <td>37.4</td>\n",
       "      <td>100.0</td>\n",
       "      <td>29.62</td>\n",
       "      <td>3.0</td>\n",
       "      <td>4.6</td>\n",
       "      <td>...</td>\n",
       "      <td>0.0</td>\n",
       "      <td>0.0</td>\n",
       "      <td>0.0</td>\n",
       "      <td>0.0</td>\n",
       "      <td>0.0</td>\n",
       "      <td>0.0</td>\n",
       "      <td>0.0</td>\n",
       "      <td>0.0</td>\n",
       "      <td>0.0</td>\n",
       "      <td>0.0</td>\n",
       "    </tr>\n",
       "    <tr>\n",
       "      <th>10</th>\n",
       "      <td>201.0</td>\n",
       "      <td>1</td>\n",
       "      <td>39.952812</td>\n",
       "      <td>-83.119293</td>\n",
       "      <td>0.01</td>\n",
       "      <td>35.6</td>\n",
       "      <td>93.0</td>\n",
       "      <td>29.64</td>\n",
       "      <td>5.0</td>\n",
       "      <td>5.8</td>\n",
       "      <td>...</td>\n",
       "      <td>0.0</td>\n",
       "      <td>0.0</td>\n",
       "      <td>0.0</td>\n",
       "      <td>0.0</td>\n",
       "      <td>0.0</td>\n",
       "      <td>0.0</td>\n",
       "      <td>0.0</td>\n",
       "      <td>0.0</td>\n",
       "      <td>0.0</td>\n",
       "      <td>0.0</td>\n",
       "    </tr>\n",
       "    <tr>\n",
       "      <th>11</th>\n",
       "      <td>241.0</td>\n",
       "      <td>1</td>\n",
       "      <td>39.932709</td>\n",
       "      <td>-82.830910</td>\n",
       "      <td>0.01</td>\n",
       "      <td>37.4</td>\n",
       "      <td>100.0</td>\n",
       "      <td>29.62</td>\n",
       "      <td>3.0</td>\n",
       "      <td>4.6</td>\n",
       "      <td>...</td>\n",
       "      <td>0.0</td>\n",
       "      <td>0.0</td>\n",
       "      <td>1.0</td>\n",
       "      <td>0.0</td>\n",
       "      <td>0.0</td>\n",
       "      <td>0.0</td>\n",
       "      <td>0.0</td>\n",
       "      <td>0.0</td>\n",
       "      <td>0.0</td>\n",
       "      <td>0.0</td>\n",
       "    </tr>\n",
       "    <tr>\n",
       "      <th>23</th>\n",
       "      <td>201.0</td>\n",
       "      <td>1</td>\n",
       "      <td>40.023487</td>\n",
       "      <td>-82.994888</td>\n",
       "      <td>0.01</td>\n",
       "      <td>37.0</td>\n",
       "      <td>96.0</td>\n",
       "      <td>29.63</td>\n",
       "      <td>8.0</td>\n",
       "      <td>5.8</td>\n",
       "      <td>...</td>\n",
       "      <td>0.0</td>\n",
       "      <td>0.0</td>\n",
       "      <td>0.0</td>\n",
       "      <td>0.0</td>\n",
       "      <td>0.0</td>\n",
       "      <td>0.0</td>\n",
       "      <td>0.0</td>\n",
       "      <td>0.0</td>\n",
       "      <td>0.0</td>\n",
       "      <td>0.0</td>\n",
       "    </tr>\n",
       "    <tr>\n",
       "      <th>32</th>\n",
       "      <td>201.0</td>\n",
       "      <td>1</td>\n",
       "      <td>40.042725</td>\n",
       "      <td>-82.997307</td>\n",
       "      <td>0.01</td>\n",
       "      <td>33.8</td>\n",
       "      <td>100.0</td>\n",
       "      <td>29.62</td>\n",
       "      <td>6.0</td>\n",
       "      <td>5.8</td>\n",
       "      <td>...</td>\n",
       "      <td>0.0</td>\n",
       "      <td>0.0</td>\n",
       "      <td>0.0</td>\n",
       "      <td>0.0</td>\n",
       "      <td>0.0</td>\n",
       "      <td>0.0</td>\n",
       "      <td>0.0</td>\n",
       "      <td>0.0</td>\n",
       "      <td>0.0</td>\n",
       "      <td>0.0</td>\n",
       "    </tr>\n",
       "    <tr>\n",
       "      <th>39</th>\n",
       "      <td>201.0</td>\n",
       "      <td>1</td>\n",
       "      <td>40.007626</td>\n",
       "      <td>-82.912155</td>\n",
       "      <td>0.01</td>\n",
       "      <td>26.6</td>\n",
       "      <td>86.0</td>\n",
       "      <td>29.62</td>\n",
       "      <td>1.5</td>\n",
       "      <td>8.1</td>\n",
       "      <td>...</td>\n",
       "      <td>0.0</td>\n",
       "      <td>0.0</td>\n",
       "      <td>0.0</td>\n",
       "      <td>0.0</td>\n",
       "      <td>0.0</td>\n",
       "      <td>0.0</td>\n",
       "      <td>0.0</td>\n",
       "      <td>0.0</td>\n",
       "      <td>0.0</td>\n",
       "      <td>0.0</td>\n",
       "    </tr>\n",
       "    <tr>\n",
       "      <th>43</th>\n",
       "      <td>201.0</td>\n",
       "      <td>1</td>\n",
       "      <td>39.978306</td>\n",
       "      <td>-82.852554</td>\n",
       "      <td>0.01</td>\n",
       "      <td>25.0</td>\n",
       "      <td>88.0</td>\n",
       "      <td>29.65</td>\n",
       "      <td>1.0</td>\n",
       "      <td>9.2</td>\n",
       "      <td>...</td>\n",
       "      <td>0.0</td>\n",
       "      <td>0.0</td>\n",
       "      <td>1.0</td>\n",
       "      <td>0.0</td>\n",
       "      <td>0.0</td>\n",
       "      <td>0.0</td>\n",
       "      <td>0.0</td>\n",
       "      <td>0.0</td>\n",
       "      <td>0.0</td>\n",
       "      <td>0.0</td>\n",
       "    </tr>\n",
       "  </tbody>\n",
       "</table>\n",
       "<p>10 rows × 46 columns</p>\n",
       "</div>"
      ],
      "text/plain": [
       "      TMC  Severity  Start_Lat  Start_Lng  Distance(mi)  Temperature(F)  \\\n",
       "3   201.0         1  39.747753 -84.205582          0.01            35.1   \n",
       "5   201.0         1  40.100590 -82.925194          0.01            37.9   \n",
       "7   201.0         1  39.770382 -84.194901          0.01            34.0   \n",
       "9   201.0         1  40.100590 -82.925194          0.01            37.4   \n",
       "10  201.0         1  39.952812 -83.119293          0.01            35.6   \n",
       "11  241.0         1  39.932709 -82.830910          0.01            37.4   \n",
       "23  201.0         1  40.023487 -82.994888          0.01            37.0   \n",
       "32  201.0         1  40.042725 -82.997307          0.01            33.8   \n",
       "39  201.0         1  40.007626 -82.912155          0.01            26.6   \n",
       "43  201.0         1  39.978306 -82.852554          0.01            25.0   \n",
       "\n",
       "    Humidity(%)  Pressure(in)  Visibility(mi)  Wind_Speed(mph)  ...  Crossing  \\\n",
       "3          96.0         29.64             9.0              4.6  ...       0.0   \n",
       "5          97.0         29.63             7.0              3.5  ...       0.0   \n",
       "7         100.0         29.66             7.0              3.5  ...       0.0   \n",
       "9         100.0         29.62             3.0              4.6  ...       0.0   \n",
       "10         93.0         29.64             5.0              5.8  ...       0.0   \n",
       "11        100.0         29.62             3.0              4.6  ...       0.0   \n",
       "23         96.0         29.63             8.0              5.8  ...       0.0   \n",
       "32        100.0         29.62             6.0              5.8  ...       0.0   \n",
       "39         86.0         29.62             1.5              8.1  ...       0.0   \n",
       "43         88.0         29.65             1.0              9.2  ...       0.0   \n",
       "\n",
       "    Give_Way  Junction  No_Exit  Railway  Roundabout  Station  Stop  \\\n",
       "3        0.0       0.0      0.0      0.0         0.0      0.0   0.0   \n",
       "5        0.0       0.0      0.0      0.0         0.0      0.0   0.0   \n",
       "7        0.0       0.0      0.0      0.0         0.0      0.0   0.0   \n",
       "9        0.0       0.0      0.0      0.0         0.0      0.0   0.0   \n",
       "10       0.0       0.0      0.0      0.0         0.0      0.0   0.0   \n",
       "11       0.0       1.0      0.0      0.0         0.0      0.0   0.0   \n",
       "23       0.0       0.0      0.0      0.0         0.0      0.0   0.0   \n",
       "32       0.0       0.0      0.0      0.0         0.0      0.0   0.0   \n",
       "39       0.0       0.0      0.0      0.0         0.0      0.0   0.0   \n",
       "43       0.0       1.0      0.0      0.0         0.0      0.0   0.0   \n",
       "\n",
       "    Traffic_Calming  Traffic_Signal  \n",
       "3               0.0             0.0  \n",
       "5               0.0             0.0  \n",
       "7               0.0             0.0  \n",
       "9               0.0             0.0  \n",
       "10              0.0             0.0  \n",
       "11              0.0             0.0  \n",
       "23              0.0             0.0  \n",
       "32              0.0             0.0  \n",
       "39              0.0             0.0  \n",
       "43              0.0             0.0  \n",
       "\n",
       "[10 rows x 46 columns]"
      ]
     },
     "execution_count": 60,
     "metadata": {},
     "output_type": "execute_result"
    }
   ],
   "source": [
    "df_high_risk = df.loc[(df['Severity'] ==3) | (df['Severity'] ==4)]\n",
    "df_highrisk = df_high_risk.copy()\n",
    "df_highrisk.loc[:,'Severity'] = 1\n",
    "df_highrisk.head(10)"
   ]
  },
  {
   "cell_type": "code",
   "execution_count": 61,
   "metadata": {},
   "outputs": [
    {
     "data": {
      "text/html": [
       "<div>\n",
       "<style scoped>\n",
       "    .dataframe tbody tr th:only-of-type {\n",
       "        vertical-align: middle;\n",
       "    }\n",
       "\n",
       "    .dataframe tbody tr th {\n",
       "        vertical-align: top;\n",
       "    }\n",
       "\n",
       "    .dataframe thead th {\n",
       "        text-align: right;\n",
       "    }\n",
       "</style>\n",
       "<table border=\"1\" class=\"dataframe\">\n",
       "  <thead>\n",
       "    <tr style=\"text-align: right;\">\n",
       "      <th></th>\n",
       "      <th>TMC</th>\n",
       "      <th>Severity</th>\n",
       "      <th>Start_Lat</th>\n",
       "      <th>Start_Lng</th>\n",
       "      <th>Distance(mi)</th>\n",
       "      <th>Temperature(F)</th>\n",
       "      <th>Humidity(%)</th>\n",
       "      <th>Pressure(in)</th>\n",
       "      <th>Visibility(mi)</th>\n",
       "      <th>Wind_Speed(mph)</th>\n",
       "      <th>...</th>\n",
       "      <th>Crossing</th>\n",
       "      <th>Give_Way</th>\n",
       "      <th>Junction</th>\n",
       "      <th>No_Exit</th>\n",
       "      <th>Railway</th>\n",
       "      <th>Roundabout</th>\n",
       "      <th>Station</th>\n",
       "      <th>Stop</th>\n",
       "      <th>Traffic_Calming</th>\n",
       "      <th>Traffic_Signal</th>\n",
       "    </tr>\n",
       "  </thead>\n",
       "  <tbody>\n",
       "    <tr>\n",
       "      <th>2</th>\n",
       "      <td>201.0</td>\n",
       "      <td>0</td>\n",
       "      <td>39.063148</td>\n",
       "      <td>-84.032608</td>\n",
       "      <td>0.01</td>\n",
       "      <td>36.0</td>\n",
       "      <td>100.0</td>\n",
       "      <td>29.67</td>\n",
       "      <td>10.0</td>\n",
       "      <td>3.5</td>\n",
       "      <td>...</td>\n",
       "      <td>0.0</td>\n",
       "      <td>0.0</td>\n",
       "      <td>0.0</td>\n",
       "      <td>0.0</td>\n",
       "      <td>0.0</td>\n",
       "      <td>0.0</td>\n",
       "      <td>0.0</td>\n",
       "      <td>0.0</td>\n",
       "      <td>0.0</td>\n",
       "      <td>1.0</td>\n",
       "    </tr>\n",
       "    <tr>\n",
       "      <th>4</th>\n",
       "      <td>201.0</td>\n",
       "      <td>0</td>\n",
       "      <td>39.627781</td>\n",
       "      <td>-84.188354</td>\n",
       "      <td>0.01</td>\n",
       "      <td>36.0</td>\n",
       "      <td>89.0</td>\n",
       "      <td>29.65</td>\n",
       "      <td>6.0</td>\n",
       "      <td>3.5</td>\n",
       "      <td>...</td>\n",
       "      <td>0.0</td>\n",
       "      <td>0.0</td>\n",
       "      <td>0.0</td>\n",
       "      <td>0.0</td>\n",
       "      <td>0.0</td>\n",
       "      <td>0.0</td>\n",
       "      <td>0.0</td>\n",
       "      <td>0.0</td>\n",
       "      <td>0.0</td>\n",
       "      <td>1.0</td>\n",
       "    </tr>\n",
       "    <tr>\n",
       "      <th>6</th>\n",
       "      <td>201.0</td>\n",
       "      <td>0</td>\n",
       "      <td>39.758274</td>\n",
       "      <td>-84.230507</td>\n",
       "      <td>0.00</td>\n",
       "      <td>34.0</td>\n",
       "      <td>100.0</td>\n",
       "      <td>29.66</td>\n",
       "      <td>7.0</td>\n",
       "      <td>3.5</td>\n",
       "      <td>...</td>\n",
       "      <td>0.0</td>\n",
       "      <td>0.0</td>\n",
       "      <td>0.0</td>\n",
       "      <td>0.0</td>\n",
       "      <td>0.0</td>\n",
       "      <td>0.0</td>\n",
       "      <td>0.0</td>\n",
       "      <td>0.0</td>\n",
       "      <td>0.0</td>\n",
       "      <td>0.0</td>\n",
       "    </tr>\n",
       "    <tr>\n",
       "      <th>8</th>\n",
       "      <td>201.0</td>\n",
       "      <td>0</td>\n",
       "      <td>39.778061</td>\n",
       "      <td>-84.172005</td>\n",
       "      <td>0.00</td>\n",
       "      <td>33.3</td>\n",
       "      <td>99.0</td>\n",
       "      <td>29.67</td>\n",
       "      <td>5.0</td>\n",
       "      <td>1.2</td>\n",
       "      <td>...</td>\n",
       "      <td>0.0</td>\n",
       "      <td>0.0</td>\n",
       "      <td>0.0</td>\n",
       "      <td>0.0</td>\n",
       "      <td>0.0</td>\n",
       "      <td>0.0</td>\n",
       "      <td>0.0</td>\n",
       "      <td>0.0</td>\n",
       "      <td>0.0</td>\n",
       "      <td>0.0</td>\n",
       "    </tr>\n",
       "    <tr>\n",
       "      <th>12</th>\n",
       "      <td>201.0</td>\n",
       "      <td>0</td>\n",
       "      <td>39.737633</td>\n",
       "      <td>-84.149933</td>\n",
       "      <td>0.00</td>\n",
       "      <td>33.8</td>\n",
       "      <td>100.0</td>\n",
       "      <td>29.63</td>\n",
       "      <td>3.0</td>\n",
       "      <td>2.3</td>\n",
       "      <td>...</td>\n",
       "      <td>0.0</td>\n",
       "      <td>0.0</td>\n",
       "      <td>0.0</td>\n",
       "      <td>0.0</td>\n",
       "      <td>0.0</td>\n",
       "      <td>0.0</td>\n",
       "      <td>0.0</td>\n",
       "      <td>0.0</td>\n",
       "      <td>0.0</td>\n",
       "      <td>0.0</td>\n",
       "    </tr>\n",
       "    <tr>\n",
       "      <th>13</th>\n",
       "      <td>201.0</td>\n",
       "      <td>0</td>\n",
       "      <td>39.790760</td>\n",
       "      <td>-84.241547</td>\n",
       "      <td>0.01</td>\n",
       "      <td>36.0</td>\n",
       "      <td>89.0</td>\n",
       "      <td>29.65</td>\n",
       "      <td>10.0</td>\n",
       "      <td>5.8</td>\n",
       "      <td>...</td>\n",
       "      <td>0.0</td>\n",
       "      <td>0.0</td>\n",
       "      <td>0.0</td>\n",
       "      <td>0.0</td>\n",
       "      <td>0.0</td>\n",
       "      <td>0.0</td>\n",
       "      <td>0.0</td>\n",
       "      <td>0.0</td>\n",
       "      <td>0.0</td>\n",
       "      <td>1.0</td>\n",
       "    </tr>\n",
       "    <tr>\n",
       "      <th>14</th>\n",
       "      <td>201.0</td>\n",
       "      <td>0</td>\n",
       "      <td>39.972038</td>\n",
       "      <td>-82.913521</td>\n",
       "      <td>0.01</td>\n",
       "      <td>37.4</td>\n",
       "      <td>100.0</td>\n",
       "      <td>29.62</td>\n",
       "      <td>3.0</td>\n",
       "      <td>4.6</td>\n",
       "      <td>...</td>\n",
       "      <td>0.0</td>\n",
       "      <td>0.0</td>\n",
       "      <td>0.0</td>\n",
       "      <td>0.0</td>\n",
       "      <td>0.0</td>\n",
       "      <td>0.0</td>\n",
       "      <td>0.0</td>\n",
       "      <td>0.0</td>\n",
       "      <td>0.0</td>\n",
       "      <td>1.0</td>\n",
       "    </tr>\n",
       "    <tr>\n",
       "      <th>15</th>\n",
       "      <td>201.0</td>\n",
       "      <td>0</td>\n",
       "      <td>39.745888</td>\n",
       "      <td>-84.170410</td>\n",
       "      <td>0.01</td>\n",
       "      <td>33.8</td>\n",
       "      <td>100.0</td>\n",
       "      <td>29.63</td>\n",
       "      <td>3.0</td>\n",
       "      <td>2.3</td>\n",
       "      <td>...</td>\n",
       "      <td>0.0</td>\n",
       "      <td>0.0</td>\n",
       "      <td>0.0</td>\n",
       "      <td>0.0</td>\n",
       "      <td>0.0</td>\n",
       "      <td>0.0</td>\n",
       "      <td>0.0</td>\n",
       "      <td>0.0</td>\n",
       "      <td>0.0</td>\n",
       "      <td>0.0</td>\n",
       "    </tr>\n",
       "    <tr>\n",
       "      <th>16</th>\n",
       "      <td>201.0</td>\n",
       "      <td>0</td>\n",
       "      <td>39.748329</td>\n",
       "      <td>-84.224007</td>\n",
       "      <td>0.01</td>\n",
       "      <td>35.6</td>\n",
       "      <td>99.0</td>\n",
       "      <td>29.65</td>\n",
       "      <td>7.0</td>\n",
       "      <td>2.3</td>\n",
       "      <td>...</td>\n",
       "      <td>0.0</td>\n",
       "      <td>0.0</td>\n",
       "      <td>0.0</td>\n",
       "      <td>0.0</td>\n",
       "      <td>0.0</td>\n",
       "      <td>0.0</td>\n",
       "      <td>0.0</td>\n",
       "      <td>0.0</td>\n",
       "      <td>0.0</td>\n",
       "      <td>0.0</td>\n",
       "    </tr>\n",
       "    <tr>\n",
       "      <th>17</th>\n",
       "      <td>201.0</td>\n",
       "      <td>0</td>\n",
       "      <td>39.752174</td>\n",
       "      <td>-84.239952</td>\n",
       "      <td>0.00</td>\n",
       "      <td>36.0</td>\n",
       "      <td>89.0</td>\n",
       "      <td>29.65</td>\n",
       "      <td>10.0</td>\n",
       "      <td>5.8</td>\n",
       "      <td>...</td>\n",
       "      <td>0.0</td>\n",
       "      <td>0.0</td>\n",
       "      <td>0.0</td>\n",
       "      <td>0.0</td>\n",
       "      <td>0.0</td>\n",
       "      <td>0.0</td>\n",
       "      <td>0.0</td>\n",
       "      <td>0.0</td>\n",
       "      <td>0.0</td>\n",
       "      <td>0.0</td>\n",
       "    </tr>\n",
       "  </tbody>\n",
       "</table>\n",
       "<p>10 rows × 46 columns</p>\n",
       "</div>"
      ],
      "text/plain": [
       "      TMC  Severity  Start_Lat  Start_Lng  Distance(mi)  Temperature(F)  \\\n",
       "2   201.0         0  39.063148 -84.032608          0.01            36.0   \n",
       "4   201.0         0  39.627781 -84.188354          0.01            36.0   \n",
       "6   201.0         0  39.758274 -84.230507          0.00            34.0   \n",
       "8   201.0         0  39.778061 -84.172005          0.00            33.3   \n",
       "12  201.0         0  39.737633 -84.149933          0.00            33.8   \n",
       "13  201.0         0  39.790760 -84.241547          0.01            36.0   \n",
       "14  201.0         0  39.972038 -82.913521          0.01            37.4   \n",
       "15  201.0         0  39.745888 -84.170410          0.01            33.8   \n",
       "16  201.0         0  39.748329 -84.224007          0.01            35.6   \n",
       "17  201.0         0  39.752174 -84.239952          0.00            36.0   \n",
       "\n",
       "    Humidity(%)  Pressure(in)  Visibility(mi)  Wind_Speed(mph)  ...  Crossing  \\\n",
       "2         100.0         29.67            10.0              3.5  ...       0.0   \n",
       "4          89.0         29.65             6.0              3.5  ...       0.0   \n",
       "6         100.0         29.66             7.0              3.5  ...       0.0   \n",
       "8          99.0         29.67             5.0              1.2  ...       0.0   \n",
       "12        100.0         29.63             3.0              2.3  ...       0.0   \n",
       "13         89.0         29.65            10.0              5.8  ...       0.0   \n",
       "14        100.0         29.62             3.0              4.6  ...       0.0   \n",
       "15        100.0         29.63             3.0              2.3  ...       0.0   \n",
       "16         99.0         29.65             7.0              2.3  ...       0.0   \n",
       "17         89.0         29.65            10.0              5.8  ...       0.0   \n",
       "\n",
       "    Give_Way  Junction  No_Exit  Railway  Roundabout  Station  Stop  \\\n",
       "2        0.0       0.0      0.0      0.0         0.0      0.0   0.0   \n",
       "4        0.0       0.0      0.0      0.0         0.0      0.0   0.0   \n",
       "6        0.0       0.0      0.0      0.0         0.0      0.0   0.0   \n",
       "8        0.0       0.0      0.0      0.0         0.0      0.0   0.0   \n",
       "12       0.0       0.0      0.0      0.0         0.0      0.0   0.0   \n",
       "13       0.0       0.0      0.0      0.0         0.0      0.0   0.0   \n",
       "14       0.0       0.0      0.0      0.0         0.0      0.0   0.0   \n",
       "15       0.0       0.0      0.0      0.0         0.0      0.0   0.0   \n",
       "16       0.0       0.0      0.0      0.0         0.0      0.0   0.0   \n",
       "17       0.0       0.0      0.0      0.0         0.0      0.0   0.0   \n",
       "\n",
       "    Traffic_Calming  Traffic_Signal  \n",
       "2               0.0             1.0  \n",
       "4               0.0             1.0  \n",
       "6               0.0             0.0  \n",
       "8               0.0             0.0  \n",
       "12              0.0             0.0  \n",
       "13              0.0             1.0  \n",
       "14              0.0             1.0  \n",
       "15              0.0             0.0  \n",
       "16              0.0             0.0  \n",
       "17              0.0             0.0  \n",
       "\n",
       "[10 rows x 46 columns]"
      ]
     },
     "execution_count": 61,
     "metadata": {},
     "output_type": "execute_result"
    }
   ],
   "source": [
    "df_cautionn = df.loc[(df['Severity'] ==1) | (df['Severity'] ==2)]\n",
    "df_caution = df_cautionn.copy()\n",
    "df_caution.loc[:,'Severity'] = 0\n",
    "df_caution.head(10)"
   ]
  },
  {
   "cell_type": "code",
   "execution_count": 75,
   "metadata": {},
   "outputs": [],
   "source": [
    "df_1 = pd.concat([df_highrisk[:20000],df_caution[:20000]])\n"
   ]
  },
  {
   "cell_type": "code",
   "execution_count": 76,
   "metadata": {},
   "outputs": [],
   "source": [
    "from sklearn import preprocessing\n",
    "X = df_1.drop('Severity',axis = 1)\n",
    "\n",
    "X = preprocessing.StandardScaler().fit(X).transform(X)"
   ]
  },
  {
   "cell_type": "code",
   "execution_count": 77,
   "metadata": {},
   "outputs": [],
   "source": [
    "y = df_1['Severity']\n"
   ]
  },
  {
   "cell_type": "code",
   "execution_count": 78,
   "metadata": {},
   "outputs": [],
   "source": [
    "from sklearn.model_selection import train_test_split\n",
    "x_train, x_test, y_train, y_test = train_test_split (X,y,test_size = 0.2, random_state = 4)"
   ]
  },
  {
   "cell_type": "markdown",
   "metadata": {},
   "source": [
    "### Logistic Regression"
   ]
  },
  {
   "cell_type": "code",
   "execution_count": 79,
   "metadata": {},
   "outputs": [],
   "source": [
    "from sklearn.linear_model import LogisticRegression\n",
    "\n",
    "LR_model = LogisticRegression(C=0.01,solver ='liblinear').fit(x_train,y_train)\n",
    "LR_predicted= LR_model.predict(x_test) \n",
    "LR_predicted_prob = LR_model.predict_proba(x_test)\n"
   ]
  },
  {
   "cell_type": "code",
   "execution_count": 80,
   "metadata": {},
   "outputs": [
    {
     "name": "stdout",
     "output_type": "stream",
     "text": [
      "Logistic Regression's Accuracy:  0.652375\n",
      "Jaccard score is:  0.4661163371088501\n",
      "F1 score is:  0.651618286445103\n",
      "Log loss score is:  0.554576528656514\n"
     ]
    }
   ],
   "source": [
    "from sklearn import metrics\n",
    "from sklearn.metrics import jaccard_score, classification_report, confusion_matrix, log_loss, f1_score\n",
    "print(\"Logistic Regression's Accuracy: \", metrics.accuracy_score(y_test, LR_predicted)) \n",
    "print(\"Jaccard score is: \",jaccard_score(y_test, LR_predicted,labels=None, pos_label=1, average='binary', sample_weight=None))\n",
    "print(\"F1 score is: \",f1_score(y_test, LR_predicted, average = 'weighted'))\n",
    "print(\"Log loss score is: \",log_loss(y_test, LR_predicted_prob))"
   ]
  },
  {
   "cell_type": "markdown",
   "metadata": {},
   "source": [
    "### Decision Tree"
   ]
  },
  {
   "cell_type": "code",
   "execution_count": 85,
   "metadata": {},
   "outputs": [
    {
     "name": "stdout",
     "output_type": "stream",
     "text": [
      "DecisionTrees's Accuracy:  0.754375\n"
     ]
    }
   ],
   "source": [
    "from sklearn.tree import DecisionTreeClassifier \n",
    "\n",
    "TreeModel = DecisionTreeClassifier(criterion=\"entropy\", max_depth = 4)\n",
    "TreeModel .fit(x_train,y_train)\n",
    "predTree = TreeModel .predict(x_test)\n",
    "\n",
    "print(\"DecisionTrees's Accuracy: \", metrics.accuracy_score(y_test, predTree)) "
   ]
  },
  {
   "cell_type": "code",
   "execution_count": 83,
   "metadata": {},
   "outputs": [
    {
     "data": {
      "image/png": "[encoded data removed]",
      "text/plain": [
       "<Figure size 432x288 with 1 Axes>"
      ]
     },
     "metadata": {
      "needs_background": "light"
     },
     "output_type": "display_data"
    },
    {
     "name": "stdout",
     "output_type": "stream",
     "text": [
      "The best accuracy was with 0.687625 with k= 8\n"
     ]
    }
   ],
   "source": [
    "from sklearn.neighbors import KNeighborsClassifier\n",
    "from sklearn import metrics\n",
    "\n",
    "Ks = 10\n",
    "mean_acc = np.zeros((Ks-1))  #create an array for mean accuracy\n",
    "std_acc = np.zeros((Ks-1))   \n",
    "\n",
    "for k in range(1,Ks):\n",
    "    \n",
    "#Train Model and Predict  \n",
    "    k_nearest = KNeighborsClassifier(n_neighbors = k).fit(x_train,y_train)\n",
    "    yhat=k_nearest.predict(x_test)\n",
    "    mean_acc[k-1] = metrics.accuracy_score(y_test, yhat)\n",
    "\n",
    "    \n",
    "    std_acc[k-1]=np.std(yhat==y_test)/np.sqrt(yhat.shape[0])\n",
    "\n",
    "plt.plot(range(1,Ks),mean_acc,'g')\n",
    "plt.fill_between(range(1,Ks),mean_acc - 1 * std_acc,mean_acc + 1 * std_acc, alpha=0.10)\n",
    "plt.legend(('Accuracy ', '+/- 3xstd'))\n",
    "plt.ylabel('Accuracy ')\n",
    "plt.xlabel('Number of Nabors (K)')\n",
    "plt.tight_layout()\n",
    "plt.show()\n",
    "print( \"The best accuracy was with\", mean_acc.max(), \"with k=\", mean_acc.argmax()+1) "
   ]
  },
  {
   "cell_type": "code",
   "execution_count": null,
   "metadata": {},
   "outputs": [],
   "source": []
  }
 ],
 "metadata": {
  "kernelspec": {
   "display_name": "Python 3",
   "language": "python",
   "name": "python3"
  },
  "language_info": {
   "codemirror_mode": {
    "name": "ipython",
    "version": 3
   },
   "file_extension": ".py",
   "mimetype": "text/x-python",
   "name": "python",
   "nbconvert_exporter": "python",
   "pygments_lexer": "ipython3",
   "version": "3.8.3"
  }
 },
 "nbformat": 4,
 "nbformat_minor": 4
}
